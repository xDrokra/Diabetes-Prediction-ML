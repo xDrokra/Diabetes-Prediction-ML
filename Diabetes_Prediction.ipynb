{
  "nbformat": 4,
  "nbformat_minor": 0,
  "metadata": {
    "colab": {
      "provenance": [],
      "collapsed_sections": [
        "xmT3PcCQGUvi",
        "oXas63zWHcmN",
        "4LRMyovXJYQe",
        "mMxaRTo0LiAG",
        "Oy9pG7XLMbSd",
        "u-pFavC4NeWo",
        "5IrgE_qWSri3",
        "VjiDdJL3w21v",
        "RQGfY-hbz3Ij",
        "W-_3uKL-ADNb",
        "NVDTGbPD4mgH",
        "Upeeliy-4vqE",
        "V0zLsofc41RO",
        "ANTDoD_i_0Hr",
        "BLvecup_iHYq",
        "l08KT-PYiHYr",
        "LfObCbLQlQZ1",
        "V5gkIe2QlSl5",
        "8vwL38umlTe6",
        "H_0B7JHPlYTN",
        "zDGZS3o0lZNj",
        "W5QYS8rvlZNk",
        "9aA8zTyzlZNl",
        "zJzHfKL8lZNl",
        "PgdDY6_ap5xT"
      ],
      "authorship_tag": "ABX9TyN269Ig8ycLePoJZ0IPI8hH",
      "include_colab_link": true
    },
    "kernelspec": {
      "name": "python3",
      "display_name": "Python 3"
    },
    "language_info": {
      "name": "python"
    }
  },
  "cells": [
    {
      "cell_type": "markdown",
      "metadata": {
        "id": "view-in-github",
        "colab_type": "text"
      },
      "source": [
        "<a href=\"https://colab.research.google.com/github/xDrokra/Diabetes-Prediction-ML/blob/main/Diabetes_Prediction.ipynb\" target=\"_parent\"><img src=\"https://colab.research.google.com/assets/colab-badge.svg\" alt=\"Open In Colab\"/></a>"
      ]
    },
    {
      "cell_type": "markdown",
      "source": [
        "# Diabetes Prediction Project\n",
        "This project focuses on leveraging machine learning techniques in the healthcare domain to predict diabetes in patients. The goal is to identify individuals at risk of diabetes based on factors such as glucose levels, insulin, BMI, and age, providing insights that could support early intervention and medical decision-making.\n",
        "\n",
        "## About the Dataset\n",
        "The dataset used is the Pima Indian Diabetes Dataset, sourced from Kaggle. It contains 768 entries and 9 attributes, encompassing patient information and health metrics.\n",
        "\n",
        "### Data Dictionary\n",
        "\n",
        "| Feature  | Description |\n",
        "| -------  | ----------  |\n",
        "| Pregnancies | Number of times the patient has been pregnant |\n",
        "| Glucose | Plasma glucose concentration during a 2-hour oral glucose tolerance test |\n",
        "| BloodPressure | Diastolic blood pressure (mm Hg) |\n",
        "| SkinThickness | Triceps skinfold thickness (mm) |\n",
        "| Insulin | 2-hour serum insulin (mu U/ml) |\n",
        "| BMI | Body Mass Index, a measure of weight relative to height |\n",
        "| DiabetesPedigreeFunction | A function assessing diabetes likelihood based on family history |\n",
        "| Age | Age of the patient in years |\n",
        "| Outcome | Binary label indicating the presence (1) or absence (0) of diabetes |\n",
        "\n",
        "This dataset provides a mix of numerical features and a clear target variable, making it well-suited for classification tasks. The project explores various machine learning algorithms, evaluates their performance, and identifies key health indicators influencing diabetes prediction.\n"
      ],
      "metadata": {
        "id": "SevnhS7cEg20"
      }
    },
    {
      "cell_type": "code",
      "source": [
        "# Importing dependencies\n",
        "import numpy as np\n",
        "import pandas as pd\n",
        "import matplotlib as plt\n",
        "import matplotlib.pyplot as plt\n",
        "import seaborn as sns\n",
        "from sklearn.preprocessing import StandardScaler\n",
        "from sklearn.model_selection import train_test_split\n",
        "from sklearn.metrics import accuracy_score"
      ],
      "metadata": {
        "id": "4mdC5xIhVeAi"
      },
      "execution_count": null,
      "outputs": []
    },
    {
      "cell_type": "markdown",
      "source": [
        "# Data Preprocessing\n",
        "The data preprocessing stage was crucial to prepare the dataset for training machine learning models. Initially, missing values in features such as glucose, blood pressure, insulin, BMI, and skin thickness were replaced with their respective means to handle incomplete records. Duplicate rows, if any, were removed to ensure data quality.\n",
        "\n",
        "The data imbalance, with significantly more non-diabetic cases (500) than diabetic ones (268), was addressed after the exploratory data analysis (EDA) phase to preserve the original distribution for visualization. To balance the datase the SMOTE technique was applied, generating synthetic samples for the minority class."
      ],
      "metadata": {
        "id": "WMfBOFvJya_C"
      }
    },
    {
      "cell_type": "code",
      "source": [
        "# loading the dataset\n",
        "df = pd.read_csv('./sample_data/diabetes.csv')\n",
        "df.head()"
      ],
      "metadata": {
        "colab": {
          "base_uri": "https://localhost:8080/",
          "height": 206
        },
        "id": "qoguzcfl-Eph",
        "outputId": "7dea9794-5b5c-4517-93de-bbe9ed75c9e1"
      },
      "execution_count": null,
      "outputs": [
        {
          "output_type": "execute_result",
          "data": {
            "text/plain": [
              "   Pregnancies  Glucose  BloodPressure  SkinThickness  Insulin   BMI  \\\n",
              "0            6      148             72             35        0  33.6   \n",
              "1            1       85             66             29        0  26.6   \n",
              "2            8      183             64              0        0  23.3   \n",
              "3            1       89             66             23       94  28.1   \n",
              "4            0      137             40             35      168  43.1   \n",
              "\n",
              "   DiabetesPedigreeFunction  Age  Outcome  \n",
              "0                     0.627   50        1  \n",
              "1                     0.351   31        0  \n",
              "2                     0.672   32        1  \n",
              "3                     0.167   21        0  \n",
              "4                     2.288   33        1  "
            ],
            "text/html": [
              "\n",
              "  <div id=\"df-b9f7e60e-62ba-4f0a-9bf4-cefc61154572\" class=\"colab-df-container\">\n",
              "    <div>\n",
              "<style scoped>\n",
              "    .dataframe tbody tr th:only-of-type {\n",
              "        vertical-align: middle;\n",
              "    }\n",
              "\n",
              "    .dataframe tbody tr th {\n",
              "        vertical-align: top;\n",
              "    }\n",
              "\n",
              "    .dataframe thead th {\n",
              "        text-align: right;\n",
              "    }\n",
              "</style>\n",
              "<table border=\"1\" class=\"dataframe\">\n",
              "  <thead>\n",
              "    <tr style=\"text-align: right;\">\n",
              "      <th></th>\n",
              "      <th>Pregnancies</th>\n",
              "      <th>Glucose</th>\n",
              "      <th>BloodPressure</th>\n",
              "      <th>SkinThickness</th>\n",
              "      <th>Insulin</th>\n",
              "      <th>BMI</th>\n",
              "      <th>DiabetesPedigreeFunction</th>\n",
              "      <th>Age</th>\n",
              "      <th>Outcome</th>\n",
              "    </tr>\n",
              "  </thead>\n",
              "  <tbody>\n",
              "    <tr>\n",
              "      <th>0</th>\n",
              "      <td>6</td>\n",
              "      <td>148</td>\n",
              "      <td>72</td>\n",
              "      <td>35</td>\n",
              "      <td>0</td>\n",
              "      <td>33.6</td>\n",
              "      <td>0.627</td>\n",
              "      <td>50</td>\n",
              "      <td>1</td>\n",
              "    </tr>\n",
              "    <tr>\n",
              "      <th>1</th>\n",
              "      <td>1</td>\n",
              "      <td>85</td>\n",
              "      <td>66</td>\n",
              "      <td>29</td>\n",
              "      <td>0</td>\n",
              "      <td>26.6</td>\n",
              "      <td>0.351</td>\n",
              "      <td>31</td>\n",
              "      <td>0</td>\n",
              "    </tr>\n",
              "    <tr>\n",
              "      <th>2</th>\n",
              "      <td>8</td>\n",
              "      <td>183</td>\n",
              "      <td>64</td>\n",
              "      <td>0</td>\n",
              "      <td>0</td>\n",
              "      <td>23.3</td>\n",
              "      <td>0.672</td>\n",
              "      <td>32</td>\n",
              "      <td>1</td>\n",
              "    </tr>\n",
              "    <tr>\n",
              "      <th>3</th>\n",
              "      <td>1</td>\n",
              "      <td>89</td>\n",
              "      <td>66</td>\n",
              "      <td>23</td>\n",
              "      <td>94</td>\n",
              "      <td>28.1</td>\n",
              "      <td>0.167</td>\n",
              "      <td>21</td>\n",
              "      <td>0</td>\n",
              "    </tr>\n",
              "    <tr>\n",
              "      <th>4</th>\n",
              "      <td>0</td>\n",
              "      <td>137</td>\n",
              "      <td>40</td>\n",
              "      <td>35</td>\n",
              "      <td>168</td>\n",
              "      <td>43.1</td>\n",
              "      <td>2.288</td>\n",
              "      <td>33</td>\n",
              "      <td>1</td>\n",
              "    </tr>\n",
              "  </tbody>\n",
              "</table>\n",
              "</div>\n",
              "    <div class=\"colab-df-buttons\">\n",
              "\n",
              "  <div class=\"colab-df-container\">\n",
              "    <button class=\"colab-df-convert\" onclick=\"convertToInteractive('df-b9f7e60e-62ba-4f0a-9bf4-cefc61154572')\"\n",
              "            title=\"Convert this dataframe to an interactive table.\"\n",
              "            style=\"display:none;\">\n",
              "\n",
              "  <svg xmlns=\"http://www.w3.org/2000/svg\" height=\"24px\" viewBox=\"0 -960 960 960\">\n",
              "    <path d=\"M120-120v-720h720v720H120Zm60-500h600v-160H180v160Zm220 220h160v-160H400v160Zm0 220h160v-160H400v160ZM180-400h160v-160H180v160Zm440 0h160v-160H620v160ZM180-180h160v-160H180v160Zm440 0h160v-160H620v160Z\"/>\n",
              "  </svg>\n",
              "    </button>\n",
              "\n",
              "  <style>\n",
              "    .colab-df-container {\n",
              "      display:flex;\n",
              "      gap: 12px;\n",
              "    }\n",
              "\n",
              "    .colab-df-convert {\n",
              "      background-color: #E8F0FE;\n",
              "      border: none;\n",
              "      border-radius: 50%;\n",
              "      cursor: pointer;\n",
              "      display: none;\n",
              "      fill: #1967D2;\n",
              "      height: 32px;\n",
              "      padding: 0 0 0 0;\n",
              "      width: 32px;\n",
              "    }\n",
              "\n",
              "    .colab-df-convert:hover {\n",
              "      background-color: #E2EBFA;\n",
              "      box-shadow: 0px 1px 2px rgba(60, 64, 67, 0.3), 0px 1px 3px 1px rgba(60, 64, 67, 0.15);\n",
              "      fill: #174EA6;\n",
              "    }\n",
              "\n",
              "    .colab-df-buttons div {\n",
              "      margin-bottom: 4px;\n",
              "    }\n",
              "\n",
              "    [theme=dark] .colab-df-convert {\n",
              "      background-color: #3B4455;\n",
              "      fill: #D2E3FC;\n",
              "    }\n",
              "\n",
              "    [theme=dark] .colab-df-convert:hover {\n",
              "      background-color: #434B5C;\n",
              "      box-shadow: 0px 1px 3px 1px rgba(0, 0, 0, 0.15);\n",
              "      filter: drop-shadow(0px 1px 2px rgba(0, 0, 0, 0.3));\n",
              "      fill: #FFFFFF;\n",
              "    }\n",
              "  </style>\n",
              "\n",
              "    <script>\n",
              "      const buttonEl =\n",
              "        document.querySelector('#df-b9f7e60e-62ba-4f0a-9bf4-cefc61154572 button.colab-df-convert');\n",
              "      buttonEl.style.display =\n",
              "        google.colab.kernel.accessAllowed ? 'block' : 'none';\n",
              "\n",
              "      async function convertToInteractive(key) {\n",
              "        const element = document.querySelector('#df-b9f7e60e-62ba-4f0a-9bf4-cefc61154572');\n",
              "        const dataTable =\n",
              "          await google.colab.kernel.invokeFunction('convertToInteractive',\n",
              "                                                    [key], {});\n",
              "        if (!dataTable) return;\n",
              "\n",
              "        const docLinkHtml = 'Like what you see? Visit the ' +\n",
              "          '<a target=\"_blank\" href=https://colab.research.google.com/notebooks/data_table.ipynb>data table notebook</a>'\n",
              "          + ' to learn more about interactive tables.';\n",
              "        element.innerHTML = '';\n",
              "        dataTable['output_type'] = 'display_data';\n",
              "        await google.colab.output.renderOutput(dataTable, element);\n",
              "        const docLink = document.createElement('div');\n",
              "        docLink.innerHTML = docLinkHtml;\n",
              "        element.appendChild(docLink);\n",
              "      }\n",
              "    </script>\n",
              "  </div>\n",
              "\n",
              "\n",
              "<div id=\"df-ee63efb4-dbaf-43ca-9d49-cd68af6bbb4d\">\n",
              "  <button class=\"colab-df-quickchart\" onclick=\"quickchart('df-ee63efb4-dbaf-43ca-9d49-cd68af6bbb4d')\"\n",
              "            title=\"Suggest charts\"\n",
              "            style=\"display:none;\">\n",
              "\n",
              "<svg xmlns=\"http://www.w3.org/2000/svg\" height=\"24px\"viewBox=\"0 0 24 24\"\n",
              "     width=\"24px\">\n",
              "    <g>\n",
              "        <path d=\"M19 3H5c-1.1 0-2 .9-2 2v14c0 1.1.9 2 2 2h14c1.1 0 2-.9 2-2V5c0-1.1-.9-2-2-2zM9 17H7v-7h2v7zm4 0h-2V7h2v10zm4 0h-2v-4h2v4z\"/>\n",
              "    </g>\n",
              "</svg>\n",
              "  </button>\n",
              "\n",
              "<style>\n",
              "  .colab-df-quickchart {\n",
              "      --bg-color: #E8F0FE;\n",
              "      --fill-color: #1967D2;\n",
              "      --hover-bg-color: #E2EBFA;\n",
              "      --hover-fill-color: #174EA6;\n",
              "      --disabled-fill-color: #AAA;\n",
              "      --disabled-bg-color: #DDD;\n",
              "  }\n",
              "\n",
              "  [theme=dark] .colab-df-quickchart {\n",
              "      --bg-color: #3B4455;\n",
              "      --fill-color: #D2E3FC;\n",
              "      --hover-bg-color: #434B5C;\n",
              "      --hover-fill-color: #FFFFFF;\n",
              "      --disabled-bg-color: #3B4455;\n",
              "      --disabled-fill-color: #666;\n",
              "  }\n",
              "\n",
              "  .colab-df-quickchart {\n",
              "    background-color: var(--bg-color);\n",
              "    border: none;\n",
              "    border-radius: 50%;\n",
              "    cursor: pointer;\n",
              "    display: none;\n",
              "    fill: var(--fill-color);\n",
              "    height: 32px;\n",
              "    padding: 0;\n",
              "    width: 32px;\n",
              "  }\n",
              "\n",
              "  .colab-df-quickchart:hover {\n",
              "    background-color: var(--hover-bg-color);\n",
              "    box-shadow: 0 1px 2px rgba(60, 64, 67, 0.3), 0 1px 3px 1px rgba(60, 64, 67, 0.15);\n",
              "    fill: var(--button-hover-fill-color);\n",
              "  }\n",
              "\n",
              "  .colab-df-quickchart-complete:disabled,\n",
              "  .colab-df-quickchart-complete:disabled:hover {\n",
              "    background-color: var(--disabled-bg-color);\n",
              "    fill: var(--disabled-fill-color);\n",
              "    box-shadow: none;\n",
              "  }\n",
              "\n",
              "  .colab-df-spinner {\n",
              "    border: 2px solid var(--fill-color);\n",
              "    border-color: transparent;\n",
              "    border-bottom-color: var(--fill-color);\n",
              "    animation:\n",
              "      spin 1s steps(1) infinite;\n",
              "  }\n",
              "\n",
              "  @keyframes spin {\n",
              "    0% {\n",
              "      border-color: transparent;\n",
              "      border-bottom-color: var(--fill-color);\n",
              "      border-left-color: var(--fill-color);\n",
              "    }\n",
              "    20% {\n",
              "      border-color: transparent;\n",
              "      border-left-color: var(--fill-color);\n",
              "      border-top-color: var(--fill-color);\n",
              "    }\n",
              "    30% {\n",
              "      border-color: transparent;\n",
              "      border-left-color: var(--fill-color);\n",
              "      border-top-color: var(--fill-color);\n",
              "      border-right-color: var(--fill-color);\n",
              "    }\n",
              "    40% {\n",
              "      border-color: transparent;\n",
              "      border-right-color: var(--fill-color);\n",
              "      border-top-color: var(--fill-color);\n",
              "    }\n",
              "    60% {\n",
              "      border-color: transparent;\n",
              "      border-right-color: var(--fill-color);\n",
              "    }\n",
              "    80% {\n",
              "      border-color: transparent;\n",
              "      border-right-color: var(--fill-color);\n",
              "      border-bottom-color: var(--fill-color);\n",
              "    }\n",
              "    90% {\n",
              "      border-color: transparent;\n",
              "      border-bottom-color: var(--fill-color);\n",
              "    }\n",
              "  }\n",
              "</style>\n",
              "\n",
              "  <script>\n",
              "    async function quickchart(key) {\n",
              "      const quickchartButtonEl =\n",
              "        document.querySelector('#' + key + ' button');\n",
              "      quickchartButtonEl.disabled = true;  // To prevent multiple clicks.\n",
              "      quickchartButtonEl.classList.add('colab-df-spinner');\n",
              "      try {\n",
              "        const charts = await google.colab.kernel.invokeFunction(\n",
              "            'suggestCharts', [key], {});\n",
              "      } catch (error) {\n",
              "        console.error('Error during call to suggestCharts:', error);\n",
              "      }\n",
              "      quickchartButtonEl.classList.remove('colab-df-spinner');\n",
              "      quickchartButtonEl.classList.add('colab-df-quickchart-complete');\n",
              "    }\n",
              "    (() => {\n",
              "      let quickchartButtonEl =\n",
              "        document.querySelector('#df-ee63efb4-dbaf-43ca-9d49-cd68af6bbb4d button');\n",
              "      quickchartButtonEl.style.display =\n",
              "        google.colab.kernel.accessAllowed ? 'block' : 'none';\n",
              "    })();\n",
              "  </script>\n",
              "</div>\n",
              "\n",
              "    </div>\n",
              "  </div>\n"
            ],
            "application/vnd.google.colaboratory.intrinsic+json": {
              "type": "dataframe",
              "variable_name": "df",
              "summary": "{\n  \"name\": \"df\",\n  \"rows\": 768,\n  \"fields\": [\n    {\n      \"column\": \"Pregnancies\",\n      \"properties\": {\n        \"dtype\": \"number\",\n        \"std\": 3,\n        \"min\": 0,\n        \"max\": 17,\n        \"num_unique_values\": 17,\n        \"samples\": [\n          6,\n          1,\n          3\n        ],\n        \"semantic_type\": \"\",\n        \"description\": \"\"\n      }\n    },\n    {\n      \"column\": \"Glucose\",\n      \"properties\": {\n        \"dtype\": \"number\",\n        \"std\": 31,\n        \"min\": 0,\n        \"max\": 199,\n        \"num_unique_values\": 136,\n        \"samples\": [\n          151,\n          101,\n          112\n        ],\n        \"semantic_type\": \"\",\n        \"description\": \"\"\n      }\n    },\n    {\n      \"column\": \"BloodPressure\",\n      \"properties\": {\n        \"dtype\": \"number\",\n        \"std\": 19,\n        \"min\": 0,\n        \"max\": 122,\n        \"num_unique_values\": 47,\n        \"samples\": [\n          86,\n          46,\n          85\n        ],\n        \"semantic_type\": \"\",\n        \"description\": \"\"\n      }\n    },\n    {\n      \"column\": \"SkinThickness\",\n      \"properties\": {\n        \"dtype\": \"number\",\n        \"std\": 15,\n        \"min\": 0,\n        \"max\": 99,\n        \"num_unique_values\": 51,\n        \"samples\": [\n          7,\n          12,\n          48\n        ],\n        \"semantic_type\": \"\",\n        \"description\": \"\"\n      }\n    },\n    {\n      \"column\": \"Insulin\",\n      \"properties\": {\n        \"dtype\": \"number\",\n        \"std\": 115,\n        \"min\": 0,\n        \"max\": 846,\n        \"num_unique_values\": 186,\n        \"samples\": [\n          52,\n          41,\n          183\n        ],\n        \"semantic_type\": \"\",\n        \"description\": \"\"\n      }\n    },\n    {\n      \"column\": \"BMI\",\n      \"properties\": {\n        \"dtype\": \"number\",\n        \"std\": 7.8841603203754405,\n        \"min\": 0.0,\n        \"max\": 67.1,\n        \"num_unique_values\": 248,\n        \"samples\": [\n          19.9,\n          31.0,\n          38.1\n        ],\n        \"semantic_type\": \"\",\n        \"description\": \"\"\n      }\n    },\n    {\n      \"column\": \"DiabetesPedigreeFunction\",\n      \"properties\": {\n        \"dtype\": \"number\",\n        \"std\": 0.33132859501277484,\n        \"min\": 0.078,\n        \"max\": 2.42,\n        \"num_unique_values\": 517,\n        \"samples\": [\n          1.731,\n          0.426,\n          0.138\n        ],\n        \"semantic_type\": \"\",\n        \"description\": \"\"\n      }\n    },\n    {\n      \"column\": \"Age\",\n      \"properties\": {\n        \"dtype\": \"number\",\n        \"std\": 11,\n        \"min\": 21,\n        \"max\": 81,\n        \"num_unique_values\": 52,\n        \"samples\": [\n          60,\n          47,\n          72\n        ],\n        \"semantic_type\": \"\",\n        \"description\": \"\"\n      }\n    },\n    {\n      \"column\": \"Outcome\",\n      \"properties\": {\n        \"dtype\": \"number\",\n        \"std\": 0,\n        \"min\": 0,\n        \"max\": 1,\n        \"num_unique_values\": 2,\n        \"samples\": [\n          0,\n          1\n        ],\n        \"semantic_type\": \"\",\n        \"description\": \"\"\n      }\n    }\n  ]\n}"
            }
          },
          "metadata": {},
          "execution_count": 291
        }
      ]
    },
    {
      "cell_type": "code",
      "source": [
        "# shape of the dataset [rows, columns]\n",
        "df.shape"
      ],
      "metadata": {
        "colab": {
          "base_uri": "https://localhost:8080/"
        },
        "id": "cggPYMNj-MGx",
        "outputId": "352bf274-8382-4a08-fbd9-4dad40bef959"
      },
      "execution_count": null,
      "outputs": [
        {
          "output_type": "execute_result",
          "data": {
            "text/plain": [
              "(768, 9)"
            ]
          },
          "metadata": {},
          "execution_count": 3
        }
      ]
    },
    {
      "cell_type": "code",
      "source": [
        "# checking duplicated\n",
        "df.duplicated()"
      ],
      "metadata": {
        "colab": {
          "base_uri": "https://localhost:8080/",
          "height": 458
        },
        "id": "iIo9NEsOK55Q",
        "outputId": "967ee34e-de3e-4575-b426-6083a272bf56"
      },
      "execution_count": null,
      "outputs": [
        {
          "output_type": "execute_result",
          "data": {
            "text/plain": [
              "0      False\n",
              "1      False\n",
              "2      False\n",
              "3      False\n",
              "4      False\n",
              "       ...  \n",
              "763    False\n",
              "764    False\n",
              "765    False\n",
              "766    False\n",
              "767    False\n",
              "Length: 768, dtype: bool"
            ],
            "text/html": [
              "<div>\n",
              "<style scoped>\n",
              "    .dataframe tbody tr th:only-of-type {\n",
              "        vertical-align: middle;\n",
              "    }\n",
              "\n",
              "    .dataframe tbody tr th {\n",
              "        vertical-align: top;\n",
              "    }\n",
              "\n",
              "    .dataframe thead th {\n",
              "        text-align: right;\n",
              "    }\n",
              "</style>\n",
              "<table border=\"1\" class=\"dataframe\">\n",
              "  <thead>\n",
              "    <tr style=\"text-align: right;\">\n",
              "      <th></th>\n",
              "      <th>0</th>\n",
              "    </tr>\n",
              "  </thead>\n",
              "  <tbody>\n",
              "    <tr>\n",
              "      <th>0</th>\n",
              "      <td>False</td>\n",
              "    </tr>\n",
              "    <tr>\n",
              "      <th>1</th>\n",
              "      <td>False</td>\n",
              "    </tr>\n",
              "    <tr>\n",
              "      <th>2</th>\n",
              "      <td>False</td>\n",
              "    </tr>\n",
              "    <tr>\n",
              "      <th>3</th>\n",
              "      <td>False</td>\n",
              "    </tr>\n",
              "    <tr>\n",
              "      <th>4</th>\n",
              "      <td>False</td>\n",
              "    </tr>\n",
              "    <tr>\n",
              "      <th>...</th>\n",
              "      <td>...</td>\n",
              "    </tr>\n",
              "    <tr>\n",
              "      <th>763</th>\n",
              "      <td>False</td>\n",
              "    </tr>\n",
              "    <tr>\n",
              "      <th>764</th>\n",
              "      <td>False</td>\n",
              "    </tr>\n",
              "    <tr>\n",
              "      <th>765</th>\n",
              "      <td>False</td>\n",
              "    </tr>\n",
              "    <tr>\n",
              "      <th>766</th>\n",
              "      <td>False</td>\n",
              "    </tr>\n",
              "    <tr>\n",
              "      <th>767</th>\n",
              "      <td>False</td>\n",
              "    </tr>\n",
              "  </tbody>\n",
              "</table>\n",
              "<p>768 rows × 1 columns</p>\n",
              "</div><br><label><b>dtype:</b> bool</label>"
            ]
          },
          "metadata": {},
          "execution_count": 4
        }
      ]
    },
    {
      "cell_type": "code",
      "source": [
        "# Check for missing value and data types\n",
        "df.info()"
      ],
      "metadata": {
        "colab": {
          "base_uri": "https://localhost:8080/"
        },
        "id": "VbOpN30RLGvr",
        "outputId": "1e62e632-460d-408b-9a98-2fc4e360ad1b"
      },
      "execution_count": null,
      "outputs": [
        {
          "output_type": "stream",
          "name": "stdout",
          "text": [
            "<class 'pandas.core.frame.DataFrame'>\n",
            "RangeIndex: 768 entries, 0 to 767\n",
            "Data columns (total 9 columns):\n",
            " #   Column                    Non-Null Count  Dtype  \n",
            "---  ------                    --------------  -----  \n",
            " 0   Pregnancies               768 non-null    int64  \n",
            " 1   Glucose                   768 non-null    int64  \n",
            " 2   BloodPressure             768 non-null    int64  \n",
            " 3   SkinThickness             768 non-null    int64  \n",
            " 4   Insulin                   768 non-null    int64  \n",
            " 5   BMI                       768 non-null    float64\n",
            " 6   DiabetesPedigreeFunction  768 non-null    float64\n",
            " 7   Age                       768 non-null    int64  \n",
            " 8   Outcome                   768 non-null    int64  \n",
            "dtypes: float64(2), int64(7)\n",
            "memory usage: 54.1 KB\n"
          ]
        }
      ]
    },
    {
      "cell_type": "code",
      "source": [
        "# Checking the count of 0 value in the variables columns\n",
        "variables = ['Glucose', 'BloodPressure', 'SkinThickness', 'Insulin', 'BMI', 'DiabetesPedigreeFunction', 'Age']\n",
        "for i in variables:\n",
        "  c = 0\n",
        "  for x in df[i]:\n",
        "    if x == 0:\n",
        "      c += 1\n",
        "  print(i, c)"
      ],
      "metadata": {
        "colab": {
          "base_uri": "https://localhost:8080/"
        },
        "id": "OL4x_7jna3zY",
        "outputId": "9fdf14f1-329f-4e70-a005-75f4817b99d2"
      },
      "execution_count": null,
      "outputs": [
        {
          "output_type": "stream",
          "name": "stdout",
          "text": [
            "Glucose 5\n",
            "BloodPressure 35\n",
            "SkinThickness 227\n",
            "Insulin 374\n",
            "BMI 11\n",
            "DiabetesPedigreeFunction 0\n",
            "Age 0\n"
          ]
        }
      ]
    },
    {
      "cell_type": "code",
      "source": [
        "# Replacing the 0 value of the columns with the mean\n",
        "variables = ['Glucose', 'BloodPressure', 'SkinThickness', 'Insulin', 'BMI']\n",
        "for i in variables:\n",
        "  df[i] = df[i].replace(0, df[i].mean())\n",
        "\n",
        "for i in variables:\n",
        "  c = 0\n",
        "  for x in df[i]:\n",
        "    if x == 0:\n",
        "      c += 1\n",
        "  print(i, c)"
      ],
      "metadata": {
        "colab": {
          "base_uri": "https://localhost:8080/"
        },
        "id": "0Olnuaalg3aP",
        "outputId": "79daa9a9-95fe-4585-c154-8efa2bf3ac92"
      },
      "execution_count": null,
      "outputs": [
        {
          "output_type": "stream",
          "name": "stdout",
          "text": [
            "Glucose 0\n",
            "BloodPressure 0\n",
            "SkinThickness 0\n",
            "Insulin 0\n",
            "BMI 0\n"
          ]
        }
      ]
    },
    {
      "cell_type": "markdown",
      "source": [
        "# Exploratory Data Analysis\n",
        "In the exploratory data analysis, I will examine the data distribution, assess feature correlations, and explore the relationships between the features and the target variable. Initially, I will focus on analyzing the data distribution, followed by investigating the connections between the target variable and the independent variables."
      ],
      "metadata": {
        "id": "W-9R5F0siS3Z"
      }
    },
    {
      "cell_type": "code",
      "source": [
        "# statistical measures of the data\n",
        "df.describe()"
      ],
      "metadata": {
        "colab": {
          "base_uri": "https://localhost:8080/",
          "height": 300
        },
        "id": "Kmo1Gj_tFsk4",
        "outputId": "899670cf-bbf7-4083-b66b-c2f76820d520"
      },
      "execution_count": null,
      "outputs": [
        {
          "output_type": "execute_result",
          "data": {
            "text/plain": [
              "       Pregnancies     Glucose  BloodPressure  SkinThickness     Insulin  \\\n",
              "count   768.000000  768.000000     768.000000     768.000000  768.000000   \n",
              "mean      3.845052  121.681605      72.254807      26.606479  118.660163   \n",
              "std       3.369578   30.436016      12.115932       9.631241   93.080358   \n",
              "min       0.000000   44.000000      24.000000       7.000000   14.000000   \n",
              "25%       1.000000   99.750000      64.000000      20.536458   79.799479   \n",
              "50%       3.000000  117.000000      72.000000      23.000000   79.799479   \n",
              "75%       6.000000  140.250000      80.000000      32.000000  127.250000   \n",
              "max      17.000000  199.000000     122.000000      99.000000  846.000000   \n",
              "\n",
              "              BMI  DiabetesPedigreeFunction         Age     Outcome  \n",
              "count  768.000000                768.000000  768.000000  768.000000  \n",
              "mean    32.450805                  0.471876   33.240885    0.348958  \n",
              "std      6.875374                  0.331329   11.760232    0.476951  \n",
              "min     18.200000                  0.078000   21.000000    0.000000  \n",
              "25%     27.500000                  0.243750   24.000000    0.000000  \n",
              "50%     32.000000                  0.372500   29.000000    0.000000  \n",
              "75%     36.600000                  0.626250   41.000000    1.000000  \n",
              "max     67.100000                  2.420000   81.000000    1.000000  "
            ],
            "text/html": [
              "\n",
              "  <div id=\"df-4230cb14-247a-4113-8d66-588eb4477d12\" class=\"colab-df-container\">\n",
              "    <div>\n",
              "<style scoped>\n",
              "    .dataframe tbody tr th:only-of-type {\n",
              "        vertical-align: middle;\n",
              "    }\n",
              "\n",
              "    .dataframe tbody tr th {\n",
              "        vertical-align: top;\n",
              "    }\n",
              "\n",
              "    .dataframe thead th {\n",
              "        text-align: right;\n",
              "    }\n",
              "</style>\n",
              "<table border=\"1\" class=\"dataframe\">\n",
              "  <thead>\n",
              "    <tr style=\"text-align: right;\">\n",
              "      <th></th>\n",
              "      <th>Pregnancies</th>\n",
              "      <th>Glucose</th>\n",
              "      <th>BloodPressure</th>\n",
              "      <th>SkinThickness</th>\n",
              "      <th>Insulin</th>\n",
              "      <th>BMI</th>\n",
              "      <th>DiabetesPedigreeFunction</th>\n",
              "      <th>Age</th>\n",
              "      <th>Outcome</th>\n",
              "    </tr>\n",
              "  </thead>\n",
              "  <tbody>\n",
              "    <tr>\n",
              "      <th>count</th>\n",
              "      <td>768.000000</td>\n",
              "      <td>768.000000</td>\n",
              "      <td>768.000000</td>\n",
              "      <td>768.000000</td>\n",
              "      <td>768.000000</td>\n",
              "      <td>768.000000</td>\n",
              "      <td>768.000000</td>\n",
              "      <td>768.000000</td>\n",
              "      <td>768.000000</td>\n",
              "    </tr>\n",
              "    <tr>\n",
              "      <th>mean</th>\n",
              "      <td>3.845052</td>\n",
              "      <td>121.681605</td>\n",
              "      <td>72.254807</td>\n",
              "      <td>26.606479</td>\n",
              "      <td>118.660163</td>\n",
              "      <td>32.450805</td>\n",
              "      <td>0.471876</td>\n",
              "      <td>33.240885</td>\n",
              "      <td>0.348958</td>\n",
              "    </tr>\n",
              "    <tr>\n",
              "      <th>std</th>\n",
              "      <td>3.369578</td>\n",
              "      <td>30.436016</td>\n",
              "      <td>12.115932</td>\n",
              "      <td>9.631241</td>\n",
              "      <td>93.080358</td>\n",
              "      <td>6.875374</td>\n",
              "      <td>0.331329</td>\n",
              "      <td>11.760232</td>\n",
              "      <td>0.476951</td>\n",
              "    </tr>\n",
              "    <tr>\n",
              "      <th>min</th>\n",
              "      <td>0.000000</td>\n",
              "      <td>44.000000</td>\n",
              "      <td>24.000000</td>\n",
              "      <td>7.000000</td>\n",
              "      <td>14.000000</td>\n",
              "      <td>18.200000</td>\n",
              "      <td>0.078000</td>\n",
              "      <td>21.000000</td>\n",
              "      <td>0.000000</td>\n",
              "    </tr>\n",
              "    <tr>\n",
              "      <th>25%</th>\n",
              "      <td>1.000000</td>\n",
              "      <td>99.750000</td>\n",
              "      <td>64.000000</td>\n",
              "      <td>20.536458</td>\n",
              "      <td>79.799479</td>\n",
              "      <td>27.500000</td>\n",
              "      <td>0.243750</td>\n",
              "      <td>24.000000</td>\n",
              "      <td>0.000000</td>\n",
              "    </tr>\n",
              "    <tr>\n",
              "      <th>50%</th>\n",
              "      <td>3.000000</td>\n",
              "      <td>117.000000</td>\n",
              "      <td>72.000000</td>\n",
              "      <td>23.000000</td>\n",
              "      <td>79.799479</td>\n",
              "      <td>32.000000</td>\n",
              "      <td>0.372500</td>\n",
              "      <td>29.000000</td>\n",
              "      <td>0.000000</td>\n",
              "    </tr>\n",
              "    <tr>\n",
              "      <th>75%</th>\n",
              "      <td>6.000000</td>\n",
              "      <td>140.250000</td>\n",
              "      <td>80.000000</td>\n",
              "      <td>32.000000</td>\n",
              "      <td>127.250000</td>\n",
              "      <td>36.600000</td>\n",
              "      <td>0.626250</td>\n",
              "      <td>41.000000</td>\n",
              "      <td>1.000000</td>\n",
              "    </tr>\n",
              "    <tr>\n",
              "      <th>max</th>\n",
              "      <td>17.000000</td>\n",
              "      <td>199.000000</td>\n",
              "      <td>122.000000</td>\n",
              "      <td>99.000000</td>\n",
              "      <td>846.000000</td>\n",
              "      <td>67.100000</td>\n",
              "      <td>2.420000</td>\n",
              "      <td>81.000000</td>\n",
              "      <td>1.000000</td>\n",
              "    </tr>\n",
              "  </tbody>\n",
              "</table>\n",
              "</div>\n",
              "    <div class=\"colab-df-buttons\">\n",
              "\n",
              "  <div class=\"colab-df-container\">\n",
              "    <button class=\"colab-df-convert\" onclick=\"convertToInteractive('df-4230cb14-247a-4113-8d66-588eb4477d12')\"\n",
              "            title=\"Convert this dataframe to an interactive table.\"\n",
              "            style=\"display:none;\">\n",
              "\n",
              "  <svg xmlns=\"http://www.w3.org/2000/svg\" height=\"24px\" viewBox=\"0 -960 960 960\">\n",
              "    <path d=\"M120-120v-720h720v720H120Zm60-500h600v-160H180v160Zm220 220h160v-160H400v160Zm0 220h160v-160H400v160ZM180-400h160v-160H180v160Zm440 0h160v-160H620v160ZM180-180h160v-160H180v160Zm440 0h160v-160H620v160Z\"/>\n",
              "  </svg>\n",
              "    </button>\n",
              "\n",
              "  <style>\n",
              "    .colab-df-container {\n",
              "      display:flex;\n",
              "      gap: 12px;\n",
              "    }\n",
              "\n",
              "    .colab-df-convert {\n",
              "      background-color: #E8F0FE;\n",
              "      border: none;\n",
              "      border-radius: 50%;\n",
              "      cursor: pointer;\n",
              "      display: none;\n",
              "      fill: #1967D2;\n",
              "      height: 32px;\n",
              "      padding: 0 0 0 0;\n",
              "      width: 32px;\n",
              "    }\n",
              "\n",
              "    .colab-df-convert:hover {\n",
              "      background-color: #E2EBFA;\n",
              "      box-shadow: 0px 1px 2px rgba(60, 64, 67, 0.3), 0px 1px 3px 1px rgba(60, 64, 67, 0.15);\n",
              "      fill: #174EA6;\n",
              "    }\n",
              "\n",
              "    .colab-df-buttons div {\n",
              "      margin-bottom: 4px;\n",
              "    }\n",
              "\n",
              "    [theme=dark] .colab-df-convert {\n",
              "      background-color: #3B4455;\n",
              "      fill: #D2E3FC;\n",
              "    }\n",
              "\n",
              "    [theme=dark] .colab-df-convert:hover {\n",
              "      background-color: #434B5C;\n",
              "      box-shadow: 0px 1px 3px 1px rgba(0, 0, 0, 0.15);\n",
              "      filter: drop-shadow(0px 1px 2px rgba(0, 0, 0, 0.3));\n",
              "      fill: #FFFFFF;\n",
              "    }\n",
              "  </style>\n",
              "\n",
              "    <script>\n",
              "      const buttonEl =\n",
              "        document.querySelector('#df-4230cb14-247a-4113-8d66-588eb4477d12 button.colab-df-convert');\n",
              "      buttonEl.style.display =\n",
              "        google.colab.kernel.accessAllowed ? 'block' : 'none';\n",
              "\n",
              "      async function convertToInteractive(key) {\n",
              "        const element = document.querySelector('#df-4230cb14-247a-4113-8d66-588eb4477d12');\n",
              "        const dataTable =\n",
              "          await google.colab.kernel.invokeFunction('convertToInteractive',\n",
              "                                                    [key], {});\n",
              "        if (!dataTable) return;\n",
              "\n",
              "        const docLinkHtml = 'Like what you see? Visit the ' +\n",
              "          '<a target=\"_blank\" href=https://colab.research.google.com/notebooks/data_table.ipynb>data table notebook</a>'\n",
              "          + ' to learn more about interactive tables.';\n",
              "        element.innerHTML = '';\n",
              "        dataTable['output_type'] = 'display_data';\n",
              "        await google.colab.output.renderOutput(dataTable, element);\n",
              "        const docLink = document.createElement('div');\n",
              "        docLink.innerHTML = docLinkHtml;\n",
              "        element.appendChild(docLink);\n",
              "      }\n",
              "    </script>\n",
              "  </div>\n",
              "\n",
              "\n",
              "<div id=\"df-e976b8af-3bf4-41b2-9374-da005417165b\">\n",
              "  <button class=\"colab-df-quickchart\" onclick=\"quickchart('df-e976b8af-3bf4-41b2-9374-da005417165b')\"\n",
              "            title=\"Suggest charts\"\n",
              "            style=\"display:none;\">\n",
              "\n",
              "<svg xmlns=\"http://www.w3.org/2000/svg\" height=\"24px\"viewBox=\"0 0 24 24\"\n",
              "     width=\"24px\">\n",
              "    <g>\n",
              "        <path d=\"M19 3H5c-1.1 0-2 .9-2 2v14c0 1.1.9 2 2 2h14c1.1 0 2-.9 2-2V5c0-1.1-.9-2-2-2zM9 17H7v-7h2v7zm4 0h-2V7h2v10zm4 0h-2v-4h2v4z\"/>\n",
              "    </g>\n",
              "</svg>\n",
              "  </button>\n",
              "\n",
              "<style>\n",
              "  .colab-df-quickchart {\n",
              "      --bg-color: #E8F0FE;\n",
              "      --fill-color: #1967D2;\n",
              "      --hover-bg-color: #E2EBFA;\n",
              "      --hover-fill-color: #174EA6;\n",
              "      --disabled-fill-color: #AAA;\n",
              "      --disabled-bg-color: #DDD;\n",
              "  }\n",
              "\n",
              "  [theme=dark] .colab-df-quickchart {\n",
              "      --bg-color: #3B4455;\n",
              "      --fill-color: #D2E3FC;\n",
              "      --hover-bg-color: #434B5C;\n",
              "      --hover-fill-color: #FFFFFF;\n",
              "      --disabled-bg-color: #3B4455;\n",
              "      --disabled-fill-color: #666;\n",
              "  }\n",
              "\n",
              "  .colab-df-quickchart {\n",
              "    background-color: var(--bg-color);\n",
              "    border: none;\n",
              "    border-radius: 50%;\n",
              "    cursor: pointer;\n",
              "    display: none;\n",
              "    fill: var(--fill-color);\n",
              "    height: 32px;\n",
              "    padding: 0;\n",
              "    width: 32px;\n",
              "  }\n",
              "\n",
              "  .colab-df-quickchart:hover {\n",
              "    background-color: var(--hover-bg-color);\n",
              "    box-shadow: 0 1px 2px rgba(60, 64, 67, 0.3), 0 1px 3px 1px rgba(60, 64, 67, 0.15);\n",
              "    fill: var(--button-hover-fill-color);\n",
              "  }\n",
              "\n",
              "  .colab-df-quickchart-complete:disabled,\n",
              "  .colab-df-quickchart-complete:disabled:hover {\n",
              "    background-color: var(--disabled-bg-color);\n",
              "    fill: var(--disabled-fill-color);\n",
              "    box-shadow: none;\n",
              "  }\n",
              "\n",
              "  .colab-df-spinner {\n",
              "    border: 2px solid var(--fill-color);\n",
              "    border-color: transparent;\n",
              "    border-bottom-color: var(--fill-color);\n",
              "    animation:\n",
              "      spin 1s steps(1) infinite;\n",
              "  }\n",
              "\n",
              "  @keyframes spin {\n",
              "    0% {\n",
              "      border-color: transparent;\n",
              "      border-bottom-color: var(--fill-color);\n",
              "      border-left-color: var(--fill-color);\n",
              "    }\n",
              "    20% {\n",
              "      border-color: transparent;\n",
              "      border-left-color: var(--fill-color);\n",
              "      border-top-color: var(--fill-color);\n",
              "    }\n",
              "    30% {\n",
              "      border-color: transparent;\n",
              "      border-left-color: var(--fill-color);\n",
              "      border-top-color: var(--fill-color);\n",
              "      border-right-color: var(--fill-color);\n",
              "    }\n",
              "    40% {\n",
              "      border-color: transparent;\n",
              "      border-right-color: var(--fill-color);\n",
              "      border-top-color: var(--fill-color);\n",
              "    }\n",
              "    60% {\n",
              "      border-color: transparent;\n",
              "      border-right-color: var(--fill-color);\n",
              "    }\n",
              "    80% {\n",
              "      border-color: transparent;\n",
              "      border-right-color: var(--fill-color);\n",
              "      border-bottom-color: var(--fill-color);\n",
              "    }\n",
              "    90% {\n",
              "      border-color: transparent;\n",
              "      border-bottom-color: var(--fill-color);\n",
              "    }\n",
              "  }\n",
              "</style>\n",
              "\n",
              "  <script>\n",
              "    async function quickchart(key) {\n",
              "      const quickchartButtonEl =\n",
              "        document.querySelector('#' + key + ' button');\n",
              "      quickchartButtonEl.disabled = true;  // To prevent multiple clicks.\n",
              "      quickchartButtonEl.classList.add('colab-df-spinner');\n",
              "      try {\n",
              "        const charts = await google.colab.kernel.invokeFunction(\n",
              "            'suggestCharts', [key], {});\n",
              "      } catch (error) {\n",
              "        console.error('Error during call to suggestCharts:', error);\n",
              "      }\n",
              "      quickchartButtonEl.classList.remove('colab-df-spinner');\n",
              "      quickchartButtonEl.classList.add('colab-df-quickchart-complete');\n",
              "    }\n",
              "    (() => {\n",
              "      let quickchartButtonEl =\n",
              "        document.querySelector('#df-e976b8af-3bf4-41b2-9374-da005417165b button');\n",
              "      quickchartButtonEl.style.display =\n",
              "        google.colab.kernel.accessAllowed ? 'block' : 'none';\n",
              "    })();\n",
              "  </script>\n",
              "</div>\n",
              "\n",
              "    </div>\n",
              "  </div>\n"
            ],
            "application/vnd.google.colaboratory.intrinsic+json": {
              "type": "dataframe",
              "summary": "{\n  \"name\": \"df\",\n  \"rows\": 8,\n  \"fields\": [\n    {\n      \"column\": \"Pregnancies\",\n      \"properties\": {\n        \"dtype\": \"number\",\n        \"std\": 269.85223453356366,\n        \"min\": 0.0,\n        \"max\": 768.0,\n        \"num_unique_values\": 8,\n        \"samples\": [\n          3.8450520833333335,\n          3.0,\n          768.0\n        ],\n        \"semantic_type\": \"\",\n        \"description\": \"\"\n      }\n    },\n    {\n      \"column\": \"Glucose\",\n      \"properties\": {\n        \"dtype\": \"number\",\n        \"std\": 239.510868070369,\n        \"min\": 30.436015643897136,\n        \"max\": 768.0,\n        \"num_unique_values\": 8,\n        \"samples\": [\n          121.68160502115886,\n          117.0,\n          768.0\n        ],\n        \"semantic_type\": \"\",\n        \"description\": \"\"\n      }\n    },\n    {\n      \"column\": \"BloodPressure\",\n      \"properties\": {\n        \"dtype\": \"number\",\n        \"std\": 251.28086638098014,\n        \"min\": 12.115931598253855,\n        \"max\": 768.0,\n        \"num_unique_values\": 8,\n        \"samples\": [\n          72.25480651855469,\n          72.0,\n          768.0\n        ],\n        \"semantic_type\": \"\",\n        \"description\": \"\"\n      }\n    },\n    {\n      \"column\": \"SkinThickness\",\n      \"properties\": {\n        \"dtype\": \"number\",\n        \"std\": 262.12880430873116,\n        \"min\": 7.0,\n        \"max\": 768.0,\n        \"num_unique_values\": 8,\n        \"samples\": [\n          26.606479220920136,\n          23.0,\n          768.0\n        ],\n        \"semantic_type\": \"\",\n        \"description\": \"\"\n      }\n    },\n    {\n      \"column\": \"Insulin\",\n      \"properties\": {\n        \"dtype\": \"number\",\n        \"std\": 336.3906767836551,\n        \"min\": 14.0,\n        \"max\": 846.0,\n        \"num_unique_values\": 7,\n        \"samples\": [\n          768.0,\n          118.66016303168404,\n          127.25\n        ],\n        \"semantic_type\": \"\",\n        \"description\": \"\"\n      }\n    },\n    {\n      \"column\": \"BMI\",\n      \"properties\": {\n        \"dtype\": \"number\",\n        \"std\": 260.9543894108279,\n        \"min\": 6.875373507418385,\n        \"max\": 768.0,\n        \"num_unique_values\": 8,\n        \"samples\": [\n          32.4508051554362,\n          32.0,\n          768.0\n        ],\n        \"semantic_type\": \"\",\n        \"description\": \"\"\n      }\n    },\n    {\n      \"column\": \"DiabetesPedigreeFunction\",\n      \"properties\": {\n        \"dtype\": \"number\",\n        \"std\": 271.3005221658502,\n        \"min\": 0.078,\n        \"max\": 768.0,\n        \"num_unique_values\": 8,\n        \"samples\": [\n          0.47187630208333325,\n          0.3725,\n          768.0\n        ],\n        \"semantic_type\": \"\",\n        \"description\": \"\"\n      }\n    },\n    {\n      \"column\": \"Age\",\n      \"properties\": {\n        \"dtype\": \"number\",\n        \"std\": 260.1941178528413,\n        \"min\": 11.76023154067868,\n        \"max\": 768.0,\n        \"num_unique_values\": 8,\n        \"samples\": [\n          33.240885416666664,\n          29.0,\n          768.0\n        ],\n        \"semantic_type\": \"\",\n        \"description\": \"\"\n      }\n    },\n    {\n      \"column\": \"Outcome\",\n      \"properties\": {\n        \"dtype\": \"number\",\n        \"std\": 271.3865920388932,\n        \"min\": 0.0,\n        \"max\": 768.0,\n        \"num_unique_values\": 5,\n        \"samples\": [\n          0.3489583333333333,\n          1.0,\n          0.4769513772427971\n        ],\n        \"semantic_type\": \"\",\n        \"description\": \"\"\n      }\n    }\n  ]\n}"
            }
          },
          "metadata": {},
          "execution_count": 8
        }
      ]
    },
    {
      "cell_type": "code",
      "source": [
        "# checking outcome of the data 1 = diabetic 0 = non diabetic\n",
        "print(df['Outcome'].value_counts())"
      ],
      "metadata": {
        "colab": {
          "base_uri": "https://localhost:8080/"
        },
        "id": "-iF71aTAukDa",
        "outputId": "ebbf7f90-ce62-4bda-a3a8-8c80df032b52"
      },
      "execution_count": null,
      "outputs": [
        {
          "output_type": "stream",
          "name": "stdout",
          "text": [
            "Outcome\n",
            "0    500\n",
            "1    268\n",
            "Name: count, dtype: int64\n"
          ]
        }
      ]
    },
    {
      "cell_type": "markdown",
      "source": [
        "## Diabetes and Age"
      ],
      "metadata": {
        "id": "JY7Lh5Lr9T1x"
      }
    },
    {
      "cell_type": "code",
      "source": [
        "sns.histplot(df, x='Age', hue='Outcome', kde=True, bins=20, palette='coolwarm')"
      ],
      "metadata": {
        "colab": {
          "base_uri": "https://localhost:8080/",
          "height": 466
        },
        "id": "jH3nXFKw9eOX",
        "outputId": "0b02409a-4f35-4c2f-b845-198943cedd93"
      },
      "execution_count": null,
      "outputs": [
        {
          "output_type": "execute_result",
          "data": {
            "text/plain": [
              "<Axes: xlabel='Age', ylabel='Count'>"
            ]
          },
          "metadata": {},
          "execution_count": 10
        },
        {
          "output_type": "display_data",
          "data": {
            "text/plain": [
              "<Figure size 640x480 with 1 Axes>"
            ],
            "image/png": "[encoded data removed]"
          },
          "metadata": {}
        }
      ]
    },
    {
      "cell_type": "markdown",
      "source": [
        "\n",
        "The graph indicates that individuals aged 40-55 are more likely to develop diabetes compared to other age groups. However, since there is a higher number of adults in the 20-30 age range, the total number of diabetes cases in this group appears higher than in other age groups."
      ],
      "metadata": {
        "id": "91iy4m55DFSh"
      }
    },
    {
      "cell_type": "markdown",
      "source": [
        "## Pregnancies and Diabetes"
      ],
      "metadata": {
        "id": "P2I8GerO-Jh8"
      }
    },
    {
      "cell_type": "code",
      "source": [
        "sns.boxplot(x='Outcome',y='Pregnancies',data=df, hue='Outcome', legend=False).set_title('Pregnancies vs Diabetes')"
      ],
      "metadata": {
        "colab": {
          "base_uri": "https://localhost:8080/",
          "height": 489
        },
        "id": "QkBqfN_l-SIn",
        "outputId": "0d1a1c2d-4495-4ba3-fff5-1fcca269797d"
      },
      "execution_count": null,
      "outputs": [
        {
          "output_type": "execute_result",
          "data": {
            "text/plain": [
              "Text(0.5, 1.0, 'Pregnancies vs Diabetes')"
            ]
          },
          "metadata": {},
          "execution_count": 11
        },
        {
          "output_type": "display_data",
          "data": {
            "text/plain": [
              "<Figure size 640x480 with 1 Axes>"
            ],
            "image/png": "[encoded data removed]"
          },
          "metadata": {}
        }
      ]
    },
    {
      "cell_type": "markdown",
      "source": [
        "This boxplot shows the relationship between the number of pregnancies and diabetes outcome. According to the graph increased number of pregnancies highlights increased risk of diabetes."
      ],
      "metadata": {
        "id": "yuVXRe4YyoCF"
      }
    },
    {
      "cell_type": "markdown",
      "source": [
        "## Glucose and Diabetes"
      ],
      "metadata": {
        "id": "32QknHlX-66A"
      }
    },
    {
      "cell_type": "code",
      "source": [
        "sns.boxplot(x='Outcome', y='Glucose', data=df, hue='Outcome', legend=False).set_title('Glucose vs Diabetes')"
      ],
      "metadata": {
        "colab": {
          "base_uri": "https://localhost:8080/",
          "height": 489
        },
        "id": "wSogNWAd_Aca",
        "outputId": "56985a5e-721b-4675-84ea-1dc0a5aa16e3"
      },
      "execution_count": null,
      "outputs": [
        {
          "output_type": "execute_result",
          "data": {
            "text/plain": [
              "Text(0.5, 1.0, 'Glucose vs Diabetes')"
            ]
          },
          "metadata": {},
          "execution_count": 12
        },
        {
          "output_type": "display_data",
          "data": {
            "text/plain": [
              "<Figure size 640x480 with 1 Axes>"
            ],
            "image/png": "[encoded data removed]"
          },
          "metadata": {}
        }
      ]
    },
    {
      "cell_type": "markdown",
      "source": [
        "This boxplot shows the relationship between the Glucose and diabetes outcome. We can see that a high glucose level plays a major role in diabetes. Patients with a glucose average greater than 140 are most likely diabetic. From here we understand that glucose is a very important indicator for diabetes"
      ],
      "metadata": {
        "id": "5n8uIJ5SzKib"
      }
    },
    {
      "cell_type": "markdown",
      "source": [
        "## Blood Pressure and Diabetes"
      ],
      "metadata": {
        "id": "Fz_t9_goDYDQ"
      }
    },
    {
      "cell_type": "code",
      "source": [
        "sns.boxplot(x='Outcome', y='BloodPressure', data=df, hue='Outcome', legend=False).set_title('Blood Pressure vs Diabetes')"
      ],
      "metadata": {
        "colab": {
          "base_uri": "https://localhost:8080/",
          "height": 489
        },
        "id": "5s9DU9ZoDb6c",
        "outputId": "15b2eeb3-3494-4ed7-9bcb-c21f7c1d3c15"
      },
      "execution_count": null,
      "outputs": [
        {
          "output_type": "execute_result",
          "data": {
            "text/plain": [
              "Text(0.5, 1.0, 'Blood Pressure vs Diabetes')"
            ]
          },
          "metadata": {},
          "execution_count": 13
        },
        {
          "output_type": "display_data",
          "data": {
            "text/plain": [
              "<Figure size 640x480 with 1 Axes>"
            ],
            "image/png": "[encoded data removed]"
          },
          "metadata": {}
        }
      ]
    },
    {
      "cell_type": "markdown",
      "source": [
        "We note that the median blood pressure for diabetic people is slightly higher than for non-diabetic people, but there is no clear evidence that blood pressure is such an important indicator in determining whether a person is diabetic."
      ],
      "metadata": {
        "id": "PQzrzEy307Un"
      }
    },
    {
      "cell_type": "markdown",
      "source": [
        "## Skin Thickness and *Diabetes*"
      ],
      "metadata": {
        "id": "UBIQpDjoIpcv"
      }
    },
    {
      "cell_type": "code",
      "source": [
        "sns.boxplot(x='Outcome', y='SkinThickness', data=df, hue='Outcome', legend=False).set_title('Skin Thickness vs Diabetes')"
      ],
      "metadata": {
        "colab": {
          "base_uri": "https://localhost:8080/",
          "height": 489
        },
        "id": "yg98GZrdJcp6",
        "outputId": "918a2c76-c036-488d-d0f1-73c1d97bbe7d"
      },
      "execution_count": null,
      "outputs": [
        {
          "output_type": "execute_result",
          "data": {
            "text/plain": [
              "Text(0.5, 1.0, 'Skin Thickness vs Diabetes')"
            ]
          },
          "metadata": {},
          "execution_count": 14
        },
        {
          "output_type": "display_data",
          "data": {
            "text/plain": [
              "<Figure size 640x480 with 1 Axes>"
            ],
            "image/png": "[encoded data removed]"
          },
          "metadata": {}
        }
      ]
    },
    {
      "cell_type": "markdown",
      "source": [
        "The median Skin tickness for diabetic people is much higher than for non-diabetic people. Where non-diabetic people have an average skin tickness of 20, diabetic people have an average of 30. Therefore, skin thickness can be a indicator of diabetes."
      ],
      "metadata": {
        "id": "Ce0jJTZw1xR7"
      }
    },
    {
      "cell_type": "markdown",
      "source": [
        "## BMI and Diabetes"
      ],
      "metadata": {
        "id": "f6hKbMBCJYZs"
      }
    },
    {
      "cell_type": "code",
      "source": [
        "sns.boxplot(x='Outcome',y='BMI', data=df, hue='Outcome', legend=False).set_title('BMI vs Diabetes')"
      ],
      "metadata": {
        "colab": {
          "base_uri": "https://localhost:8080/",
          "height": 489
        },
        "id": "5vNW-gu_IyJ3",
        "outputId": "866cf794-4a1f-415f-f875-14ec104de01d"
      },
      "execution_count": null,
      "outputs": [
        {
          "output_type": "execute_result",
          "data": {
            "text/plain": [
              "Text(0.5, 1.0, 'BMI vs Diabetes')"
            ]
          },
          "metadata": {},
          "execution_count": 15
        },
        {
          "output_type": "display_data",
          "data": {
            "text/plain": [
              "<Figure size 640x480 with 1 Axes>"
            ],
            "image/png": "[encoded data removed]"
          },
          "metadata": {}
        }
      ]
    },
    {
      "cell_type": "markdown",
      "source": [
        "The diabetic group has a slightly higher median BMI and a slightly wider range, with some outliers present in both groups. Higher BMI values appear more common in the diabetic group, suggesting a potential link between BMI and diabetes."
      ],
      "metadata": {
        "id": "oS8K4u8R8FDN"
      }
    },
    {
      "cell_type": "markdown",
      "source": [
        "## Insuline and Diabetes"
      ],
      "metadata": {
        "id": "Cu65TIY6M3TS"
      }
    },
    {
      "cell_type": "code",
      "source": [
        "sns.boxplot(x='Outcome', y='Insulin', data=df, hue='Outcome', legend=False).set_title('Insulin vs Diabetes')"
      ],
      "metadata": {
        "colab": {
          "base_uri": "https://localhost:8080/",
          "height": 489
        },
        "id": "Fjgeq67QM5XK",
        "outputId": "79cd7c6f-550c-43fa-de82-180b7a062508"
      },
      "execution_count": null,
      "outputs": [
        {
          "output_type": "execute_result",
          "data": {
            "text/plain": [
              "Text(0.5, 1.0, 'Insulin vs Diabetes')"
            ]
          },
          "metadata": {},
          "execution_count": 16
        },
        {
          "output_type": "display_data",
          "data": {
            "text/plain": [
              "<Figure size 640x480 with 1 Axes>"
            ],
            "image/png": "[encoded data removed]"
          },
          "metadata": {}
        }
      ]
    },
    {
      "cell_type": "markdown",
      "source": [
        "We can see how insulin is an important indicator for the role of diabetes as we know insulin also influences glucose levels. Non-diabetic patients have an insulin level close to 100, while diabetic patients have an insulin level close to 200"
      ],
      "metadata": {
        "id": "7SXvagYg9Wlc"
      }
    },
    {
      "cell_type": "markdown",
      "source": [
        "## Diabetes pedigree function and Diabetes"
      ],
      "metadata": {
        "id": "SdwF4RmrvUWH"
      }
    },
    {
      "cell_type": "code",
      "source": [
        "sns.boxplot(x='Outcome', y='DiabetesPedigreeFunction', data=df, hue='Outcome', legend=False).set_title('Diabetes Pedigree Function vs Diabetes')"
      ],
      "metadata": {
        "colab": {
          "base_uri": "https://localhost:8080/",
          "height": 489
        },
        "id": "4BGU3tc-vf3z",
        "outputId": "c743193c-c787-4901-c398-9afe6a8fafc6"
      },
      "execution_count": null,
      "outputs": [
        {
          "output_type": "execute_result",
          "data": {
            "text/plain": [
              "Text(0.5, 1.0, 'Diabetes Pedigree Function vs Diabetes')"
            ]
          },
          "metadata": {},
          "execution_count": 17
        },
        {
          "output_type": "display_data",
          "data": {
            "text/plain": [
              "<Figure size 640x480 with 1 Axes>"
            ],
            "image/png": "[encoded data removed]"
          },
          "metadata": {}
        }
      ]
    },
    {
      "cell_type": "markdown",
      "source": [
        "\n",
        "The Diabetes Pedigree Function (DPF) estimates the likelihood of diabetes based on the individual's age and family history of diabetes. From the boxplot, it is evident that patients with lower DPF values are significantly less likely to have diabetes, while those with higher DPF values are more likely to be diabetic. This suggests that DPF is a good predictor of diabetes."
      ],
      "metadata": {
        "id": "e8IHoUqT-dK5"
      }
    },
    {
      "cell_type": "code",
      "source": [
        "correlation_matrix = df.corr()\n",
        "\n",
        "sns.heatmap(correlation_matrix, annot=True, cmap='coolwarm')"
      ],
      "metadata": {
        "colab": {
          "base_uri": "https://localhost:8080/",
          "height": 620
        },
        "id": "mTMxAxTzzrMt",
        "outputId": "b223bfa0-e323-42f5-f032-2e1a72e50aeb"
      },
      "execution_count": null,
      "outputs": [
        {
          "output_type": "execute_result",
          "data": {
            "text/plain": [
              "<Axes: >"
            ]
          },
          "metadata": {},
          "execution_count": 18
        },
        {
          "output_type": "display_data",
          "data": {
            "text/plain": [
              "<Figure size 640x480 with 2 Axes>"
            ],
            "image/png": "[encoded data removed]"
          },
          "metadata": {}
        }
      ]
    },
    {
      "cell_type": "markdown",
      "source": [],
      "metadata": {
        "id": "a7cQUswxvvaJ"
      }
    },
    {
      "cell_type": "markdown",
      "source": [
        "# Train Test Split\n",
        "## Diabetes Model\n",
        "for the prediction of the diabetes, i'll use the following algo:\n",
        "- Logistic Regression\n",
        "- Random Forest\n",
        "- Decision Tree\n",
        "- Support Vector Machine\n",
        "- Gradient Boosting\n",
        "- Bagging Classifier\n",
        "- XGBoost"
      ],
      "metadata": {
        "id": "aSTwkdqJg7E3"
      }
    },
    {
      "cell_type": "code",
      "source": [
        "from imblearn.over_sampling import SMOTE\n",
        "import warnings\n",
        "warnings.filterwarnings(\"ignore\", category=FutureWarning)\n",
        "\n",
        "# Generate new synthetic samples for the minority class for making the dataset balanced\n",
        "smote = SMOTE(random_state=42)\n",
        "X = df.drop('Outcome', axis=1)\n",
        "Y = df['Outcome']\n",
        "X_resampled, Y_resampled = smote.fit_resample(X, Y)\n",
        "\n",
        "# Suddivisione del dataset\n",
        "X_train, X_test, y_train, y_test = train_test_split(X_resampled, Y_resampled, test_size=0.2, stratify=Y_resampled, random_state=42)\n"
      ],
      "metadata": {
        "id": "086zNreyfotA"
      },
      "execution_count": null,
      "outputs": []
    },
    {
      "cell_type": "code",
      "source": [
        "# X_train, X_test, y_train, y_test = train_test_split(df.drop('Outcome',axis=1),df['Outcome'],test_size=0.2,random_state=42)"
      ],
      "metadata": {
        "id": "q0jn0OCjnWln"
      },
      "execution_count": null,
      "outputs": []
    },
    {
      "cell_type": "markdown",
      "source": [
        "## Logistic Regression"
      ],
      "metadata": {
        "id": "xmT3PcCQGUvi"
      }
    },
    {
      "cell_type": "code",
      "source": [
        "# building model\n",
        "from sklearn.linear_model import LogisticRegression\n",
        "lr = LogisticRegression(max_iter=200)"
      ],
      "metadata": {
        "id": "xNAkvl1nqD0M"
      },
      "execution_count": null,
      "outputs": []
    },
    {
      "cell_type": "code",
      "source": [
        "# training the model\n",
        "lr.fit(X_train,y_train)\n",
        "# training accuracy\n",
        "lr.score(X_train,y_train)"
      ],
      "metadata": {
        "colab": {
          "base_uri": "https://localhost:8080/"
        },
        "id": "S3I43RpSqc97",
        "outputId": "749d3302-1edd-4cf5-b0cf-8c7fab812e45"
      },
      "execution_count": null,
      "outputs": [
        {
          "output_type": "execute_result",
          "data": {
            "text/plain": [
              "0.74875"
            ]
          },
          "metadata": {},
          "execution_count": 212
        }
      ]
    },
    {
      "cell_type": "code",
      "source": [
        "prediction_lr = lr.predict(X_test)"
      ],
      "metadata": {
        "id": "3YiGziV4vTss"
      },
      "execution_count": null,
      "outputs": []
    },
    {
      "cell_type": "markdown",
      "source": [
        "## Random Forest"
      ],
      "metadata": {
        "id": "oXas63zWHcmN"
      }
    },
    {
      "cell_type": "code",
      "source": [
        "from sklearn.ensemble import RandomForestClassifier\n",
        "rfc = RandomForestClassifier(random_state=42)"
      ],
      "metadata": {
        "id": "2oKGlgZ5umuW"
      },
      "execution_count": null,
      "outputs": []
    },
    {
      "cell_type": "code",
      "source": [
        "# trainig model\n",
        "rfc.fit(X_train, y_train)\n",
        "# training accuracy\n",
        "rfc.score(X_train, y_train)"
      ],
      "metadata": {
        "colab": {
          "base_uri": "https://localhost:8080/"
        },
        "id": "L6_hMDequoD7",
        "outputId": "21a4c3ac-58d5-4b0f-9052-44cef8c1d483"
      },
      "execution_count": null,
      "outputs": [
        {
          "output_type": "execute_result",
          "data": {
            "text/plain": [
              "1.0"
            ]
          },
          "metadata": {},
          "execution_count": 218
        }
      ]
    },
    {
      "cell_type": "code",
      "source": [
        "prediction_rfc = rfc.predict(X_test)\n",
        "accuracy_score(prediction_rfc, y_test)"
      ],
      "metadata": {
        "colab": {
          "base_uri": "https://localhost:8080/"
        },
        "id": "51Wa1h49vtaF",
        "outputId": "f00de2b9-6761-4e35-91f7-4f809f614060"
      },
      "execution_count": null,
      "outputs": [
        {
          "output_type": "execute_result",
          "data": {
            "text/plain": [
              "0.83"
            ]
          },
          "metadata": {},
          "execution_count": 219
        }
      ]
    },
    {
      "cell_type": "markdown",
      "source": [
        "## Decision Tree"
      ],
      "metadata": {
        "id": "4LRMyovXJYQe"
      }
    },
    {
      "cell_type": "code",
      "source": [
        "from sklearn.tree import DecisionTreeClassifier\n",
        "dtc = DecisionTreeClassifier()"
      ],
      "metadata": {
        "id": "o24oyrwcJnAb"
      },
      "execution_count": null,
      "outputs": []
    },
    {
      "cell_type": "code",
      "source": [
        "# training model\n",
        "dtc.fit(X_train, y_train)\n",
        "# training accuracy\n",
        "dtc.score(X_train, y_train)"
      ],
      "metadata": {
        "colab": {
          "base_uri": "https://localhost:8080/"
        },
        "id": "G3MlXMQXJqvM",
        "outputId": "30ef2db1-5693-4731-dcb1-727f55b0c860"
      },
      "execution_count": null,
      "outputs": [
        {
          "output_type": "execute_result",
          "data": {
            "text/plain": [
              "1.0"
            ]
          },
          "metadata": {},
          "execution_count": 221
        }
      ]
    },
    {
      "cell_type": "code",
      "source": [
        "prediction_dtc = dtc.predict(X_test)\n",
        "accuracy_score(prediction_dtc, y_test)"
      ],
      "metadata": {
        "colab": {
          "base_uri": "https://localhost:8080/"
        },
        "id": "oPwSvQZxJt9J",
        "outputId": "5643df69-c57a-4603-cdf0-32490bec4e31"
      },
      "execution_count": null,
      "outputs": [
        {
          "output_type": "execute_result",
          "data": {
            "text/plain": [
              "0.79"
            ]
          },
          "metadata": {},
          "execution_count": 222
        }
      ]
    },
    {
      "cell_type": "markdown",
      "source": [
        "## Support Vector Machine"
      ],
      "metadata": {
        "id": "mMxaRTo0LiAG"
      }
    },
    {
      "cell_type": "code",
      "source": [
        "from sklearn.svm import SVC\n",
        "svc = SVC()"
      ],
      "metadata": {
        "id": "mY8b4q-9LpLc"
      },
      "execution_count": null,
      "outputs": []
    },
    {
      "cell_type": "code",
      "source": [
        "# training model\n",
        "svc.fit(X_train, y_train)\n",
        "# training accuracy\n",
        "svc.score(X_train, y_train)"
      ],
      "metadata": {
        "colab": {
          "base_uri": "https://localhost:8080/"
        },
        "id": "SX4sZEDQLtNh",
        "outputId": "afb8dc73-f0e0-42d8-a80f-5373c79ca92b"
      },
      "execution_count": null,
      "outputs": [
        {
          "output_type": "execute_result",
          "data": {
            "text/plain": [
              "0.72625"
            ]
          },
          "metadata": {},
          "execution_count": 224
        }
      ]
    },
    {
      "cell_type": "code",
      "source": [
        "prediction_svc = svc.predict(X_test)\n",
        "accuracy_score(prediction_svc, y_test)"
      ],
      "metadata": {
        "colab": {
          "base_uri": "https://localhost:8080/"
        },
        "id": "zw9PJex-LvKW",
        "outputId": "9c54a81b-e115-440d-ed68-5ccde999882a"
      },
      "execution_count": null,
      "outputs": [
        {
          "output_type": "execute_result",
          "data": {
            "text/plain": [
              "0.72"
            ]
          },
          "metadata": {},
          "execution_count": 225
        }
      ]
    },
    {
      "cell_type": "markdown",
      "source": [
        "## K-Nearest Neighbors"
      ],
      "metadata": {
        "id": "Oy9pG7XLMbSd"
      }
    },
    {
      "cell_type": "code",
      "source": [
        "from sklearn.neighbors import KNeighborsClassifier\n",
        "knn = KNeighborsClassifier()"
      ],
      "metadata": {
        "id": "rQ7N7F1UMgRI"
      },
      "execution_count": null,
      "outputs": []
    },
    {
      "cell_type": "code",
      "source": [
        "# training model\n",
        "knn.fit(X_train, y_train)\n",
        "# training accuracy\n",
        "knn.score(X_train, y_train)"
      ],
      "metadata": {
        "colab": {
          "base_uri": "https://localhost:8080/"
        },
        "id": "HRCvscUiMnvd",
        "outputId": "1752c6fa-defa-49b7-f04d-1a7de96e2bab"
      },
      "execution_count": null,
      "outputs": [
        {
          "output_type": "execute_result",
          "data": {
            "text/plain": [
              "0.835"
            ]
          },
          "metadata": {},
          "execution_count": 227
        }
      ]
    },
    {
      "cell_type": "code",
      "source": [
        "prediction_knn = knn.predict(X_test)\n",
        "accuracy_score(prediction_knn, y_test)"
      ],
      "metadata": {
        "colab": {
          "base_uri": "https://localhost:8080/"
        },
        "id": "iGuHjZwyMqm5",
        "outputId": "f9e05171-05a6-4c67-f9c2-2811000acfb4"
      },
      "execution_count": null,
      "outputs": [
        {
          "output_type": "execute_result",
          "data": {
            "text/plain": [
              "0.74"
            ]
          },
          "metadata": {},
          "execution_count": 228
        }
      ]
    },
    {
      "cell_type": "markdown",
      "source": [
        "## Gradient Boosting"
      ],
      "metadata": {
        "id": "u-pFavC4NeWo"
      }
    },
    {
      "cell_type": "code",
      "source": [
        "from sklearn.ensemble import GradientBoostingClassifier\n",
        "gb = GradientBoostingClassifier()"
      ],
      "metadata": {
        "id": "n-sPV0gbNj-L"
      },
      "execution_count": null,
      "outputs": []
    },
    {
      "cell_type": "code",
      "source": [
        "# training model\n",
        "gb.fit(X_train, y_train)\n",
        "# training accuracy\n",
        "gb.score(X_train, y_train)"
      ],
      "metadata": {
        "colab": {
          "base_uri": "https://localhost:8080/"
        },
        "id": "lmKqa5xJNmcF",
        "outputId": "078bb20c-d550-49f0-fc6e-360760f5814e"
      },
      "execution_count": null,
      "outputs": [
        {
          "output_type": "execute_result",
          "data": {
            "text/plain": [
              "0.92625"
            ]
          },
          "metadata": {},
          "execution_count": 230
        }
      ]
    },
    {
      "cell_type": "code",
      "source": [
        "prediction_gb = gb.predict(X_test)\n",
        "accuracy_score(prediction_gb, y_test)"
      ],
      "metadata": {
        "colab": {
          "base_uri": "https://localhost:8080/"
        },
        "id": "9-CaGkBcNojZ",
        "outputId": "a0d5edf1-d2bf-441d-c2ad-e9aed29b04f5"
      },
      "execution_count": null,
      "outputs": [
        {
          "output_type": "execute_result",
          "data": {
            "text/plain": [
              "0.82"
            ]
          },
          "metadata": {},
          "execution_count": 231
        }
      ]
    },
    {
      "cell_type": "markdown",
      "source": [
        "## Bagging Classifier"
      ],
      "metadata": {
        "id": "5IrgE_qWSri3"
      }
    },
    {
      "cell_type": "code",
      "source": [
        "from sklearn.ensemble import BaggingClassifier\n",
        "bc = BaggingClassifier()"
      ],
      "metadata": {
        "id": "uRYp4C8ASwF5"
      },
      "execution_count": null,
      "outputs": []
    },
    {
      "cell_type": "code",
      "source": [
        "# training model\n",
        "bc.fit(X_train, y_train)\n",
        "# training accuracy\n",
        "bc.score(X_train, y_train)"
      ],
      "metadata": {
        "colab": {
          "base_uri": "https://localhost:8080/"
        },
        "id": "e7vFki8hSyD0",
        "outputId": "cbc52cab-66ed-48b1-9cc3-d29c51c37070"
      },
      "execution_count": null,
      "outputs": [
        {
          "output_type": "execute_result",
          "data": {
            "text/plain": [
              "0.9875"
            ]
          },
          "metadata": {},
          "execution_count": 233
        }
      ]
    },
    {
      "cell_type": "code",
      "source": [
        "prediction_bc = bc.predict(X_test)\n",
        "accuracy_score(prediction_bc, y_test)"
      ],
      "metadata": {
        "colab": {
          "base_uri": "https://localhost:8080/"
        },
        "id": "p8TWUV4qS0eR",
        "outputId": "ffc33093-5103-4ea9-cbbc-a6d7312143cb"
      },
      "execution_count": null,
      "outputs": [
        {
          "output_type": "execute_result",
          "data": {
            "text/plain": [
              "0.83"
            ]
          },
          "metadata": {},
          "execution_count": 234
        }
      ]
    },
    {
      "cell_type": "markdown",
      "source": [
        "## XGBoost"
      ],
      "metadata": {
        "id": "VjiDdJL3w21v"
      }
    },
    {
      "cell_type": "code",
      "source": [
        "from sklearn.ensemble import GradientBoostingClassifier\n",
        "from xgboost import XGBClassifier\n",
        "\n",
        "xgb = GradientBoostingClassifier()"
      ],
      "metadata": {
        "id": "6Rd8a923w7Ik"
      },
      "execution_count": null,
      "outputs": []
    },
    {
      "cell_type": "code",
      "source": [
        "# training model\n",
        "xgb.fit(X_train, y_train)\n",
        "# training accuracy\n",
        "xgb.score(X_train, y_train)"
      ],
      "metadata": {
        "colab": {
          "base_uri": "https://localhost:8080/"
        },
        "id": "qsw9lB5xxBo9",
        "outputId": "c31e4a5e-18ff-46b8-a823-918919693e48"
      },
      "execution_count": null,
      "outputs": [
        {
          "output_type": "execute_result",
          "data": {
            "text/plain": [
              "0.92625"
            ]
          },
          "metadata": {},
          "execution_count": 236
        }
      ]
    },
    {
      "cell_type": "code",
      "source": [
        "prediction_xgb = xgb.predict(X_test)\n",
        "accuracy_score(prediction_xgb, y_test)"
      ],
      "metadata": {
        "colab": {
          "base_uri": "https://localhost:8080/"
        },
        "id": "4rXmp3DfxCgF",
        "outputId": "a54b07eb-8f92-4875-f8e2-962219d3fd7a"
      },
      "execution_count": null,
      "outputs": [
        {
          "output_type": "execute_result",
          "data": {
            "text/plain": [
              "0.825"
            ]
          },
          "metadata": {},
          "execution_count": 237
        }
      ]
    },
    {
      "cell_type": "markdown",
      "source": [
        "# Model evaluation"
      ],
      "metadata": {
        "id": "RQGfY-hbz3Ij"
      }
    },
    {
      "cell_type": "markdown",
      "source": [
        "## Evaluation Logic Regression"
      ],
      "metadata": {
        "id": "W-_3uKL-ADNb"
      }
    },
    {
      "cell_type": "code",
      "source": [
        "from sklearn.metrics import (\n",
        "    accuracy_score, precision_score, recall_score, f1_score, roc_auc_score, confusion_matrix, classification_report\n",
        ")\n",
        "\n",
        "Y_pred = prediction_lr\n",
        "Y_pred_prob = lr.predict_proba(X_test)[:, 1]"
      ],
      "metadata": {
        "id": "7QfAL4oM1AuK"
      },
      "execution_count": null,
      "outputs": []
    },
    {
      "cell_type": "markdown",
      "source": [
        "### Model Prediction"
      ],
      "metadata": {
        "id": "NVDTGbPD4mgH"
      }
    },
    {
      "cell_type": "code",
      "source": [
        "# model prediction\n",
        "accuracy_lr = accuracy_score(y_test, Y_pred)\n",
        "print(\"Accuracy:\", accuracy_lr)\n",
        "print(\"Precision:\", precision_score(y_test, Y_pred))\n",
        "print(\"Recall:\", recall_score(y_test, Y_pred))\n",
        "print(\"F1-Score:\", f1_score(y_test, Y_pred))\n",
        "print(\"ROC-AUC Score:\", roc_auc_score(y_test, Y_pred_prob))"
      ],
      "metadata": {
        "colab": {
          "base_uri": "https://localhost:8080/"
        },
        "id": "3tUY_JJL48Qp",
        "outputId": "e06a1993-2687-4094-f1d1-78cdc44c1d56"
      },
      "execution_count": null,
      "outputs": [
        {
          "output_type": "stream",
          "name": "stdout",
          "text": [
            "Accuracy: 0.745\n",
            "Precision: 0.7425742574257426\n",
            "Recall: 0.75\n",
            "F1-Score: 0.746268656716418\n",
            "ROC-AUC Score: 0.8301\n"
          ]
        }
      ]
    },
    {
      "cell_type": "markdown",
      "source": [
        "### Confusion Matrix"
      ],
      "metadata": {
        "id": "Upeeliy-4vqE"
      }
    },
    {
      "cell_type": "code",
      "source": [
        "# confusion matrix\n",
        "sns.heatmap(confusion_matrix(y_test, Y_pred), annot=True, fmt='d', cmap='Blues')\n",
        "plt.xlabel('Predicted Values')\n",
        "plt.ylabel('Actual')\n",
        "plt.title('Confusion Matrix')\n",
        "plt.show()"
      ],
      "metadata": {
        "colab": {
          "base_uri": "https://localhost:8080/"
        },
        "id": "RW0xalH-5AuS",
        "outputId": "5ac0e822-ccc3-425e-f45d-9f6d6c6e822a"
      },
      "execution_count": null,
      "outputs": [
        {
          "output_type": "display_data",
          "data": {
            "text/plain": [
              "<Figure size 640x480 with 2 Axes>"
            ],
            "image/png": "[encoded data removed]"
          },
          "metadata": {}
        }
      ]
    },
    {
      "cell_type": "markdown",
      "source": [
        "### Classification Report"
      ],
      "metadata": {
        "id": "V0zLsofc41RO"
      }
    },
    {
      "cell_type": "code",
      "source": [
        "# classification report\n",
        "print(\"\\nClassification Report:\\n\", classification_report(y_test, Y_pred))"
      ],
      "metadata": {
        "colab": {
          "base_uri": "https://localhost:8080/"
        },
        "id": "2c8oxaIj5EbW",
        "outputId": "5792a87e-611b-4d85-937f-d9c1ce358ef7"
      },
      "execution_count": null,
      "outputs": [
        {
          "output_type": "stream",
          "name": "stdout",
          "text": [
            "\n",
            "Classification Report:\n",
            "               precision    recall  f1-score   support\n",
            "\n",
            "           0       0.75      0.74      0.74       100\n",
            "           1       0.74      0.75      0.75       100\n",
            "\n",
            "    accuracy                           0.74       200\n",
            "   macro avg       0.75      0.74      0.74       200\n",
            "weighted avg       0.75      0.74      0.74       200\n",
            "\n"
          ]
        }
      ]
    },
    {
      "cell_type": "markdown",
      "source": [
        "## Evaluation Random Forest"
      ],
      "metadata": {
        "id": "ANTDoD_i_0Hr"
      }
    },
    {
      "cell_type": "code",
      "source": [
        "Y_pred = prediction_rfc\n",
        "Y_pred_prob = rfc.predict_proba(X_test)[:, 1]"
      ],
      "metadata": {
        "id": "G-r2qJRTdvYf"
      },
      "execution_count": null,
      "outputs": []
    },
    {
      "cell_type": "markdown",
      "source": [
        "### Model Prediction"
      ],
      "metadata": {
        "id": "BqST8FDcdvYg"
      }
    },
    {
      "cell_type": "code",
      "source": [
        "# model prediction\n",
        "accuracy_rfc = accuracy_score(y_test, Y_pred)\n",
        "print(\"Accuracy:\", accuracy_rfc)\n",
        "print(\"Precision:\", precision_score(y_test, Y_pred))\n",
        "print(\"Recall:\", recall_score(y_test, Y_pred))\n",
        "print(\"F1-Score:\", f1_score(y_test, Y_pred))\n",
        "print(\"ROC-AUC Score:\", roc_auc_score(y_test, Y_pred_prob))"
      ],
      "metadata": {
        "colab": {
          "base_uri": "https://localhost:8080/"
        },
        "outputId": "97faa3b3-d521-4080-f648-60afe29da4d5",
        "id": "DTnEUSzBdvYg"
      },
      "execution_count": null,
      "outputs": [
        {
          "output_type": "stream",
          "name": "stdout",
          "text": [
            "Accuracy: 0.83\n",
            "Precision: 0.8\n",
            "Recall: 0.88\n",
            "F1-Score: 0.8380952380952381\n",
            "ROC-AUC Score: 0.91275\n"
          ]
        }
      ]
    },
    {
      "cell_type": "markdown",
      "source": [
        "### Confusion Matrix"
      ],
      "metadata": {
        "id": "_2j4FgZJdvYg"
      }
    },
    {
      "cell_type": "code",
      "source": [
        "# confusion matrix\n",
        "sns.heatmap(confusion_matrix(y_test, Y_pred), annot=True, fmt='d', cmap='Blues')\n",
        "plt.xlabel('Predicted Values')\n",
        "plt.ylabel('Actual')\n",
        "plt.title('Confusion Matrix')\n",
        "plt.show()"
      ],
      "metadata": {
        "colab": {
          "base_uri": "https://localhost:8080/",
          "height": 472
        },
        "outputId": "a8f7d098-1fb0-407a-8a95-9c1884443dbe",
        "id": "P35kh7CjdvYg"
      },
      "execution_count": null,
      "outputs": [
        {
          "output_type": "display_data",
          "data": {
            "text/plain": [
              "<Figure size 640x480 with 2 Axes>"
            ],
            "image/png": "[encoded data removed]"
          },
          "metadata": {}
        }
      ]
    },
    {
      "cell_type": "markdown",
      "source": [
        "### Classification Report"
      ],
      "metadata": {
        "id": "JSe5AeXUdvYg"
      }
    },
    {
      "cell_type": "code",
      "source": [
        "# classification report\n",
        "print(\"\\nClassification Report:\\n\", classification_report(y_test, Y_pred))"
      ],
      "metadata": {
        "colab": {
          "base_uri": "https://localhost:8080/"
        },
        "outputId": "6a965500-db64-4573-8456-e00f586c9789",
        "id": "ZPqJa_HHdvYg"
      },
      "execution_count": null,
      "outputs": [
        {
          "output_type": "stream",
          "name": "stdout",
          "text": [
            "\n",
            "Classification Report:\n",
            "               precision    recall  f1-score   support\n",
            "\n",
            "           0       0.87      0.78      0.82       100\n",
            "           1       0.80      0.88      0.84       100\n",
            "\n",
            "    accuracy                           0.83       200\n",
            "   macro avg       0.83      0.83      0.83       200\n",
            "weighted avg       0.83      0.83      0.83       200\n",
            "\n"
          ]
        }
      ]
    },
    {
      "cell_type": "markdown",
      "source": [
        "## Evaluation Decision Tree"
      ],
      "metadata": {
        "id": "BLvecup_iHYq"
      }
    },
    {
      "cell_type": "code",
      "source": [
        "Y_pred = prediction_dtc\n",
        "Y_pred_prob = dtc.predict_proba(X_test)[:, 1]"
      ],
      "metadata": {
        "id": "LkjeN6RUiHYq"
      },
      "execution_count": null,
      "outputs": []
    },
    {
      "cell_type": "markdown",
      "source": [
        "### Model Prediction"
      ],
      "metadata": {
        "id": "qeeZh7sMiHYq"
      }
    },
    {
      "cell_type": "code",
      "source": [
        "# model prediction\n",
        "accuracy_dtc = accuracy_score(y_test, Y_pred)\n",
        "print(\"Accuracy:\", accuracy_dtc)\n",
        "print(\"Precision:\", precision_score(y_test, Y_pred))\n",
        "print(\"Recall:\", recall_score(y_test, Y_pred))\n",
        "print(\"F1-Score:\", f1_score(y_test, Y_pred))\n",
        "print(\"ROC-AUC Score:\", roc_auc_score(y_test, Y_pred_prob))"
      ],
      "metadata": {
        "colab": {
          "base_uri": "https://localhost:8080/"
        },
        "outputId": "2b32cb25-20c0-415a-c8c0-aceb94a9deee",
        "id": "a2JRnPLBiHYq"
      },
      "execution_count": null,
      "outputs": [
        {
          "output_type": "stream",
          "name": "stdout",
          "text": [
            "Accuracy: 0.79\n",
            "Precision: 0.7843137254901961\n",
            "Recall: 0.8\n",
            "F1-Score: 0.7920792079207921\n",
            "ROC-AUC Score: 0.79\n"
          ]
        }
      ]
    },
    {
      "cell_type": "markdown",
      "source": [
        "### Confusion Matrix"
      ],
      "metadata": {
        "id": "l08KT-PYiHYr"
      }
    },
    {
      "cell_type": "code",
      "source": [
        "# confusion matrix\n",
        "sns.heatmap(confusion_matrix(y_test, Y_pred), annot=True, fmt='d', cmap='Blues')\n",
        "plt.xlabel('Predicted Values')\n",
        "plt.ylabel('Actual')\n",
        "plt.title('Confusion Matrix')\n",
        "plt.show()"
      ],
      "metadata": {
        "colab": {
          "base_uri": "https://localhost:8080/"
        },
        "outputId": "7ca219e5-d826-4c45-868f-191611dc87dd",
        "id": "d2egIz-IiHYr"
      },
      "execution_count": null,
      "outputs": [
        {
          "output_type": "display_data",
          "data": {
            "text/plain": [
              "<Figure size 640x480 with 2 Axes>"
            ],
            "image/png": "[encoded data removed]"
          },
          "metadata": {}
        }
      ]
    },
    {
      "cell_type": "markdown",
      "source": [
        "### Classification Report"
      ],
      "metadata": {
        "id": "EhPJvMN7iHYr"
      }
    },
    {
      "cell_type": "code",
      "source": [
        "# classification report\n",
        "print(\"\\nClassification Report:\\n\", classification_report(y_test, Y_pred))"
      ],
      "metadata": {
        "colab": {
          "base_uri": "https://localhost:8080/"
        },
        "outputId": "dc02ab3c-09ab-48e0-e9a5-09392af8ca54",
        "id": "jqRiGTkUiHYr"
      },
      "execution_count": null,
      "outputs": [
        {
          "output_type": "stream",
          "name": "stdout",
          "text": [
            "\n",
            "Classification Report:\n",
            "               precision    recall  f1-score   support\n",
            "\n",
            "           0       0.80      0.78      0.79       100\n",
            "           1       0.78      0.80      0.79       100\n",
            "\n",
            "    accuracy                           0.79       200\n",
            "   macro avg       0.79      0.79      0.79       200\n",
            "weighted avg       0.79      0.79      0.79       200\n",
            "\n"
          ]
        }
      ]
    },
    {
      "cell_type": "markdown",
      "source": [
        "## Evaluation SVM"
      ],
      "metadata": {
        "id": "LfObCbLQlQZ1"
      }
    },
    {
      "cell_type": "code",
      "source": [
        "Y_pred = prediction_svc\n",
        "# Y_pred_prob = svc.predict_proba(X_test)[:, 1]"
      ],
      "metadata": {
        "id": "lWausm-zlQZ1"
      },
      "execution_count": null,
      "outputs": []
    },
    {
      "cell_type": "markdown",
      "source": [
        "### Model Prediction"
      ],
      "metadata": {
        "id": "u637h4OzlQZ1"
      }
    },
    {
      "cell_type": "code",
      "source": [
        "# model prediction\n",
        "accuracy_svc = accuracy_score(y_test, Y_pred)\n",
        "print(\"Accuracy:\", accuracy_svc)\n",
        "print(\"Precision:\", precision_score(y_test, Y_pred))\n",
        "print(\"Recall:\", recall_score(y_test, Y_pred))\n",
        "print(\"F1-Score:\", f1_score(y_test, Y_pred))\n",
        "# print(\"ROC-AUC Score:\", roc_auc_score(y_test, Y_pred_prob))"
      ],
      "metadata": {
        "colab": {
          "base_uri": "https://localhost:8080/"
        },
        "outputId": "e2949bb6-e1e1-4ac9-a3f4-58edafbeeb4f",
        "id": "bqAMwSz6lQZ1"
      },
      "execution_count": null,
      "outputs": [
        {
          "output_type": "stream",
          "name": "stdout",
          "text": [
            "Accuracy: 0.72\n",
            "Precision: 0.72\n",
            "Recall: 0.72\n",
            "F1-Score: 0.72\n"
          ]
        }
      ]
    },
    {
      "cell_type": "markdown",
      "source": [
        "### Confusion Matrix"
      ],
      "metadata": {
        "id": "cFEAmsAxlQZ2"
      }
    },
    {
      "cell_type": "code",
      "source": [
        "# confusion matrix\n",
        "sns.heatmap(confusion_matrix(y_test, Y_pred), annot=True, fmt='d', cmap='Blues')\n",
        "plt.xlabel('Predicted Values')\n",
        "plt.ylabel('Actual')\n",
        "plt.title('Confusion Matrix')\n",
        "plt.show()"
      ],
      "metadata": {
        "colab": {
          "base_uri": "https://localhost:8080/",
          "height": 472
        },
        "outputId": "ca7d6377-1a62-4b00-d7c0-9d5c1f9288bf",
        "id": "GSxrIKaMlQZ2"
      },
      "execution_count": null,
      "outputs": [
        {
          "output_type": "display_data",
          "data": {
            "text/plain": [
              "<Figure size 640x480 with 2 Axes>"
            ],
            "image/png": "[encoded data removed]"
          },
          "metadata": {}
        }
      ]
    },
    {
      "cell_type": "markdown",
      "source": [
        "### Classification Report"
      ],
      "metadata": {
        "id": "OGB25RiDlQZ2"
      }
    },
    {
      "cell_type": "code",
      "source": [
        "# classification report\n",
        "print(\"\\nClassification Report:\\n\", classification_report(y_test, Y_pred))"
      ],
      "metadata": {
        "colab": {
          "base_uri": "https://localhost:8080/"
        },
        "outputId": "68f65f15-e823-4719-bf92-8293fca4b01a",
        "id": "o47EIv0SlQZ2"
      },
      "execution_count": null,
      "outputs": [
        {
          "output_type": "stream",
          "name": "stdout",
          "text": [
            "\n",
            "Classification Report:\n",
            "               precision    recall  f1-score   support\n",
            "\n",
            "           0       0.72      0.72      0.72       100\n",
            "           1       0.72      0.72      0.72       100\n",
            "\n",
            "    accuracy                           0.72       200\n",
            "   macro avg       0.72      0.72      0.72       200\n",
            "weighted avg       0.72      0.72      0.72       200\n",
            "\n"
          ]
        }
      ]
    },
    {
      "cell_type": "markdown",
      "source": [
        "## Evaluation K-Nearest Neighbors"
      ],
      "metadata": {
        "id": "V5gkIe2QlSl5"
      }
    },
    {
      "cell_type": "code",
      "source": [
        "Y_pred = prediction_knn\n",
        "Y_pred_prob = knn.predict_proba(X_test)[:, 1]"
      ],
      "metadata": {
        "id": "FnghtCcklSl6"
      },
      "execution_count": null,
      "outputs": []
    },
    {
      "cell_type": "markdown",
      "source": [
        "### Model Prediction"
      ],
      "metadata": {
        "id": "tlmBD1F-lSl6"
      }
    },
    {
      "cell_type": "code",
      "source": [
        "# model prediction\n",
        "accuracy_knn = accuracy_score(y_test, Y_pred)\n",
        "print(\"Accuracy:\", accuracy_knn)\n",
        "print(\"Precision:\", precision_score(y_test, Y_pred))\n",
        "print(\"Recall:\", recall_score(y_test, Y_pred))\n",
        "print(\"F1-Score:\", f1_score(y_test, Y_pred))\n",
        "print(\"ROC-AUC Score:\", roc_auc_score(y_test, Y_pred_prob))"
      ],
      "metadata": {
        "colab": {
          "base_uri": "https://localhost:8080/"
        },
        "outputId": "482c4c5d-7366-41d0-821a-2c384134a1f3",
        "id": "88lwfHBPlSl6"
      },
      "execution_count": null,
      "outputs": [
        {
          "output_type": "stream",
          "name": "stdout",
          "text": [
            "Accuracy: 0.74\n",
            "Precision: 0.7142857142857143\n",
            "Recall: 0.8\n",
            "F1-Score: 0.7547169811320755\n",
            "ROC-AUC Score: 0.8204\n"
          ]
        }
      ]
    },
    {
      "cell_type": "markdown",
      "source": [
        "### Confusion Matrix"
      ],
      "metadata": {
        "id": "XE86QQf9lSl6"
      }
    },
    {
      "cell_type": "code",
      "source": [
        "# confusion matrix\n",
        "sns.heatmap(confusion_matrix(y_test, Y_pred), annot=True, fmt='d', cmap='Blues')\n",
        "plt.xlabel('Predicted Values')\n",
        "plt.ylabel('Actual')\n",
        "plt.title('Confusion Matrix')\n",
        "plt.show()"
      ],
      "metadata": {
        "colab": {
          "base_uri": "https://localhost:8080/",
          "height": 472
        },
        "outputId": "33ea2c51-c088-4ff3-8257-d74f688317c9",
        "id": "_6s_Bz7JlSl6"
      },
      "execution_count": null,
      "outputs": [
        {
          "output_type": "display_data",
          "data": {
            "text/plain": [
              "<Figure size 640x480 with 2 Axes>"
            ],
            "image/png": "[encoded data removed]"
          },
          "metadata": {}
        }
      ]
    },
    {
      "cell_type": "markdown",
      "source": [
        "### Classification Report"
      ],
      "metadata": {
        "id": "lm4tRRqslSl6"
      }
    },
    {
      "cell_type": "code",
      "source": [
        "# classification report\n",
        "print(\"\\nClassification Report:\\n\", classification_report(y_test, Y_pred))"
      ],
      "metadata": {
        "colab": {
          "base_uri": "https://localhost:8080/"
        },
        "outputId": "7d8059df-54ef-47f8-cdaa-59670f61f067",
        "id": "_m9W2nstlSl6"
      },
      "execution_count": null,
      "outputs": [
        {
          "output_type": "stream",
          "name": "stdout",
          "text": [
            "\n",
            "Classification Report:\n",
            "               precision    recall  f1-score   support\n",
            "\n",
            "           0       0.77      0.68      0.72       100\n",
            "           1       0.71      0.80      0.75       100\n",
            "\n",
            "    accuracy                           0.74       200\n",
            "   macro avg       0.74      0.74      0.74       200\n",
            "weighted avg       0.74      0.74      0.74       200\n",
            "\n"
          ]
        }
      ]
    },
    {
      "cell_type": "markdown",
      "source": [
        "## Evalutation Gradient Boosting"
      ],
      "metadata": {
        "id": "8vwL38umlTe6"
      }
    },
    {
      "cell_type": "code",
      "source": [
        "Y_pred = prediction_gb\n",
        "Y_pred_prob = gb.predict_proba(X_test)[:, 1]"
      ],
      "metadata": {
        "id": "KbOnORh0lTe6"
      },
      "execution_count": null,
      "outputs": []
    },
    {
      "cell_type": "markdown",
      "source": [
        "### Model Prediction"
      ],
      "metadata": {
        "id": "jXgbVJyPlTe6"
      }
    },
    {
      "cell_type": "code",
      "source": [
        "# model prediction\n",
        "accuracy_gb = accuracy_score(y_test, Y_pred)\n",
        "print(\"Accuracy:\", accuracy_gb)\n",
        "print(\"Precision:\", precision_score(y_test, Y_pred))\n",
        "print(\"Recall:\", recall_score(y_test, Y_pred))\n",
        "print(\"F1-Score:\", f1_score(y_test, Y_pred))\n",
        "print(\"ROC-AUC Score:\", roc_auc_score(y_test, Y_pred_prob))"
      ],
      "metadata": {
        "colab": {
          "base_uri": "https://localhost:8080/"
        },
        "outputId": "feff95f8-8fd7-435c-afab-db5a44b87999",
        "id": "ly_4S9NtlTe6"
      },
      "execution_count": null,
      "outputs": [
        {
          "output_type": "stream",
          "name": "stdout",
          "text": [
            "Accuracy: 0.82\n",
            "Precision: 0.7962962962962963\n",
            "Recall: 0.86\n",
            "F1-Score: 0.8269230769230769\n",
            "ROC-AUC Score: 0.8818999999999999\n"
          ]
        }
      ]
    },
    {
      "cell_type": "markdown",
      "source": [
        "### Confusion Matrix"
      ],
      "metadata": {
        "id": "2LtCwAHNlTe7"
      }
    },
    {
      "cell_type": "code",
      "source": [
        "# confusion matrix\n",
        "sns.heatmap(confusion_matrix(y_test, Y_pred), annot=True, fmt='d', cmap='Blues')\n",
        "plt.xlabel('Predicted Values')\n",
        "plt.ylabel('Actual')\n",
        "plt.title('Confusion Matrix')\n",
        "plt.show()"
      ],
      "metadata": {
        "colab": {
          "base_uri": "https://localhost:8080/",
          "height": 472
        },
        "outputId": "1ada67c7-b5dd-4b55-e0b6-a5a046018897",
        "id": "2McdWt8KlTe7"
      },
      "execution_count": null,
      "outputs": [
        {
          "output_type": "display_data",
          "data": {
            "text/plain": [
              "<Figure size 640x480 with 2 Axes>"
            ],
            "image/png": "[encoded data removed]"
          },
          "metadata": {}
        }
      ]
    },
    {
      "cell_type": "markdown",
      "source": [
        "### Classification Report"
      ],
      "metadata": {
        "id": "kj7vvcCklTe7"
      }
    },
    {
      "cell_type": "code",
      "source": [
        "# classification report\n",
        "print(\"\\nClassification Report:\\n\", classification_report(y_test, Y_pred))"
      ],
      "metadata": {
        "colab": {
          "base_uri": "https://localhost:8080/"
        },
        "outputId": "a5b3163e-ee75-417b-e5ed-f18d6c4fec7f",
        "id": "sEtrxgrYlTe7"
      },
      "execution_count": null,
      "outputs": [
        {
          "output_type": "stream",
          "name": "stdout",
          "text": [
            "\n",
            "Classification Report:\n",
            "               precision    recall  f1-score   support\n",
            "\n",
            "           0       0.85      0.78      0.81       100\n",
            "           1       0.80      0.86      0.83       100\n",
            "\n",
            "    accuracy                           0.82       200\n",
            "   macro avg       0.82      0.82      0.82       200\n",
            "weighted avg       0.82      0.82      0.82       200\n",
            "\n"
          ]
        }
      ]
    },
    {
      "cell_type": "markdown",
      "source": [
        "## Evalutation Bagging Classifier"
      ],
      "metadata": {
        "id": "H_0B7JHPlYTN"
      }
    },
    {
      "cell_type": "code",
      "source": [
        "Y_pred = prediction_bc\n",
        "Y_pred_prob = bc.predict_proba(X_test)[:, 1]"
      ],
      "metadata": {
        "id": "3kGn8F3QlYTN"
      },
      "execution_count": null,
      "outputs": []
    },
    {
      "cell_type": "markdown",
      "source": [
        "### Model Prediction"
      ],
      "metadata": {
        "id": "fs66Jy4ZlYTN"
      }
    },
    {
      "cell_type": "code",
      "source": [
        "# model prediction\n",
        "accuracy_bc = accuracy_score(y_test, Y_pred)\n",
        "print(\"Accuracy:\", accuracy_bc)\n",
        "print(\"Precision:\", precision_score(y_test, Y_pred))\n",
        "print(\"Recall:\", recall_score(y_test, Y_pred))\n",
        "print(\"F1-Score:\", f1_score(y_test, Y_pred))\n",
        "print(\"ROC-AUC Score:\", roc_auc_score(y_test, Y_pred_prob))"
      ],
      "metadata": {
        "colab": {
          "base_uri": "https://localhost:8080/"
        },
        "outputId": "5a0d1e62-d8e7-497f-a2b4-a390c06b1203",
        "id": "2yaRd7Y6lYTO"
      },
      "execution_count": null,
      "outputs": [
        {
          "output_type": "stream",
          "name": "stdout",
          "text": [
            "Accuracy: 0.83\n",
            "Precision: 0.84375\n",
            "Recall: 0.81\n",
            "F1-Score: 0.826530612244898\n",
            "ROC-AUC Score: 0.9056000000000001\n"
          ]
        }
      ]
    },
    {
      "cell_type": "markdown",
      "source": [
        "### Confusion Matrix"
      ],
      "metadata": {
        "id": "cC4TKH-ulYTO"
      }
    },
    {
      "cell_type": "code",
      "source": [
        "# confusion matrix\n",
        "sns.heatmap(confusion_matrix(y_test, Y_pred), annot=True, fmt='d', cmap='Blues')\n",
        "plt.xlabel('Predicted Values')\n",
        "plt.ylabel('Actual')\n",
        "plt.title('Confusion Matrix')\n",
        "plt.show()"
      ],
      "metadata": {
        "colab": {
          "base_uri": "https://localhost:8080/",
          "height": 472
        },
        "outputId": "12e33512-0ee3-4cbc-d9a7-2ebb426151fa",
        "id": "1nRPBeqAlYTO"
      },
      "execution_count": null,
      "outputs": [
        {
          "output_type": "display_data",
          "data": {
            "text/plain": [
              "<Figure size 640x480 with 2 Axes>"
            ],
            "image/png": "[encoded data removed]"
          },
          "metadata": {}
        }
      ]
    },
    {
      "cell_type": "markdown",
      "source": [
        "### Classification Report"
      ],
      "metadata": {
        "id": "BhPt4Zq5lYTO"
      }
    },
    {
      "cell_type": "code",
      "source": [
        "# classification report\n",
        "print(\"\\nClassification Report:\\n\", classification_report(y_test, Y_pred))"
      ],
      "metadata": {
        "colab": {
          "base_uri": "https://localhost:8080/"
        },
        "outputId": "24085789-b8b4-4415-ec20-385bca74f97b",
        "id": "CyJVacb1lYTO"
      },
      "execution_count": null,
      "outputs": [
        {
          "output_type": "stream",
          "name": "stdout",
          "text": [
            "\n",
            "Classification Report:\n",
            "               precision    recall  f1-score   support\n",
            "\n",
            "           0       0.82      0.85      0.83       100\n",
            "           1       0.84      0.81      0.83       100\n",
            "\n",
            "    accuracy                           0.83       200\n",
            "   macro avg       0.83      0.83      0.83       200\n",
            "weighted avg       0.83      0.83      0.83       200\n",
            "\n"
          ]
        }
      ]
    },
    {
      "cell_type": "markdown",
      "source": [
        "## Evalutation XGBoost"
      ],
      "metadata": {
        "id": "zDGZS3o0lZNj"
      }
    },
    {
      "cell_type": "code",
      "source": [
        "Y_pred = prediction_xgb\n",
        "Y_pred_prob = xgb.predict_proba(X_test)[:, 1]"
      ],
      "metadata": {
        "id": "HLcAxVghlZNk"
      },
      "execution_count": null,
      "outputs": []
    },
    {
      "cell_type": "markdown",
      "source": [
        "### Model Prediction"
      ],
      "metadata": {
        "id": "W5QYS8rvlZNk"
      }
    },
    {
      "cell_type": "code",
      "source": [
        "# model prediction\n",
        "accuracy_xgb = accuracy_score(y_test, Y_pred)\n",
        "print(\"Accuracy:\", accuracy_xgb)\n",
        "print(\"Precision:\", precision_score(y_test, Y_pred))\n",
        "print(\"Recall:\", recall_score(y_test, Y_pred))\n",
        "print(\"F1-Score:\", f1_score(y_test, Y_pred))\n",
        "print(\"ROC-AUC Score:\", roc_auc_score(y_test, Y_pred_prob))"
      ],
      "metadata": {
        "colab": {
          "base_uri": "https://localhost:8080/"
        },
        "outputId": "4f57888d-a648-43ea-d660-cfd98c611ddc",
        "id": "kC1-5MivlZNk"
      },
      "execution_count": null,
      "outputs": [
        {
          "output_type": "stream",
          "name": "stdout",
          "text": [
            "Accuracy: 0.825\n",
            "Precision: 0.8037383177570093\n",
            "Recall: 0.86\n",
            "F1-Score: 0.8309178743961353\n",
            "ROC-AUC Score: 0.8833\n"
          ]
        }
      ]
    },
    {
      "cell_type": "markdown",
      "source": [
        "### Confusion Matrix"
      ],
      "metadata": {
        "id": "9aA8zTyzlZNl"
      }
    },
    {
      "cell_type": "code",
      "source": [
        "# confusion matrix\n",
        "sns.heatmap(confusion_matrix(y_test, Y_pred), annot=True, fmt='d', cmap='Blues')\n",
        "plt.xlabel('Predicted Values')\n",
        "plt.ylabel('Actual')\n",
        "plt.title('Confusion Matrix')\n",
        "plt.show()"
      ],
      "metadata": {
        "colab": {
          "base_uri": "https://localhost:8080/",
          "height": 472
        },
        "outputId": "14ab4053-85fa-4be7-891b-3d0f2c27ca2f",
        "id": "GpcbenX2lZNl"
      },
      "execution_count": null,
      "outputs": [
        {
          "output_type": "display_data",
          "data": {
            "text/plain": [
              "<Figure size 640x480 with 2 Axes>"
            ],
            "image/png": "[encoded data removed]"
          },
          "metadata": {}
        }
      ]
    },
    {
      "cell_type": "markdown",
      "source": [
        "### Classification Report"
      ],
      "metadata": {
        "id": "zJzHfKL8lZNl"
      }
    },
    {
      "cell_type": "code",
      "source": [
        "# classification report\n",
        "print(\"\\nClassification Report:\\n\", classification_report(y_test, Y_pred))"
      ],
      "metadata": {
        "colab": {
          "base_uri": "https://localhost:8080/"
        },
        "outputId": "49021a95-f061-4322-db61-2fbbc1d51eba",
        "id": "1IunNEfNlZNl"
      },
      "execution_count": null,
      "outputs": [
        {
          "output_type": "stream",
          "name": "stdout",
          "text": [
            "\n",
            "Classification Report:\n",
            "               precision    recall  f1-score   support\n",
            "\n",
            "           0       0.85      0.79      0.82       100\n",
            "           1       0.80      0.86      0.83       100\n",
            "\n",
            "    accuracy                           0.82       200\n",
            "   macro avg       0.83      0.82      0.82       200\n",
            "weighted avg       0.83      0.82      0.82       200\n",
            "\n"
          ]
        }
      ]
    },
    {
      "cell_type": "markdown",
      "source": [],
      "metadata": {
        "id": "c3AgqHekp3DP"
      }
    },
    {
      "cell_type": "markdown",
      "source": [
        "# Comparing the Models"
      ],
      "metadata": {
        "id": "PgdDY6_ap5xT"
      }
    },
    {
      "cell_type": "code",
      "source": [
        "#comparing the accuracy of different models\n",
        "plt.figure(figsize=(12, 6))\n",
        "ax = sns.barplot(palette='plasma',x=['LogisticRegression', 'RandomForest', 'DecisionTree', 'SVM', 'KNN', 'GradientBoosting', 'Bagging', 'XGBoost'], y=[accuracy_lr, accuracy_rfc, accuracy_dtc, accuracy_svc, accuracy_knn, accuracy_gb, accuracy_bc, accuracy_xgb])\n",
        "plt.xlabel('Classifier Models')\n",
        "plt.ylabel('Accuracy')\n",
        "plt.tight_layout()\n",
        "plt.title('Comparison of different models')\n",
        "ax.set_yticks(np.arange(0, 1.1, 0.1))\n",
        "plt.show()\n"
      ],
      "metadata": {
        "colab": {
          "base_uri": "https://localhost:8080/",
          "height": 629
        },
        "id": "mFHBc4bWqCZj",
        "outputId": "02b10c27-0c1d-4282-9cc0-f6c5ddfc1a26"
      },
      "execution_count": null,
      "outputs": [
        {
          "output_type": "display_data",
          "data": {
            "text/plain": [
              "<Figure size 1200x600 with 1 Axes>"
            ],
            "image/png": "[encoded data removed]"
          },
          "metadata": {}
        }
      ]
    },
    {
      "cell_type": "markdown",
      "source": [
        "The graph shows the performance of various models based on their accuracy. The Random Forest, Bagging, and Gradient Boosting models achieved the highest accuracy at 0.83, closely followed by XGBoost with 0.825. The Decision Tree model performed moderately well with 0.79 accuracy. Logistic Regression and K-Nearest Neighbors (KNN) yielded similar results at 0.745 and 0.74, respectively. Support Vector Machine (SVM) had the lowest accuracy among the models, scoring 0.72. This comparison highlights that ensemble methods like Random Forest, Bagging, and Gradient Boosting generally outperform individual models in this task."
      ],
      "metadata": {
        "id": "cNArj5la19RV"
      }
    },
    {
      "cell_type": "markdown",
      "source": [
        "# Conclusion\n",
        "\n",
        "In conclusion, this project investigated the prediction of diabetes using machine learning models, identifying key factors such as:\n",
        "- glucose levels\n",
        "- BMI\n",
        "- skin thickness\n",
        "- insulin (closely tied to glucose metabolism)\n",
        "- pregnancies\n",
        "\n",
        "as the most significant contributors to the outcome. These features reflect well-established medical insights into the risk factors for diabetes.\n",
        "\n",
        "---\n",
        "\n",
        "Among the models tested, Random Forest, Bagging, and Gradient Boosting emerged as the best-performing algorithms, each achieving an accuracy of 83%. These ensemble-based methods demonstrated their effectiveness in capturing complex relationships within the dataset.\n",
        "\n",
        "---\n",
        "The dataset used was relatively small (768 samples) and initially imbalanced, with more non-diabetic cases than diabetic ones. To address this, techniques like SMOTE were applied to balance the data, aiming for more reliable results. While this improved performance, further enhancements such as hyperparameter tuning, advanced feature selection, and testing on larger datasets could yield even better results.\n",
        "\n",
        "This project demonstrates the importance of selecting key features and robust machine learning techniques in predicting medical conditions, highlighting the potential for these tools to contribute to healthcare advancements."
      ],
      "metadata": {
        "id": "88VBrrd59kJu"
      }
    },
    {
      "cell_type": "code",
      "source": [],
      "metadata": {
        "id": "_M3ZJB7B9lGu"
      },
      "execution_count": null,
      "outputs": []
    }
  ]
}